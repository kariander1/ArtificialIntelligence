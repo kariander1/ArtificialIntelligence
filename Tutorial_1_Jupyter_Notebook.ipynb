{
 "cells": [
  {
   "cell_type": "markdown",
   "metadata": {
    "id": "NzrljUjLi0gx"
   },
   "source": [
    "# <center><div style=\"direction:rtl\">326501 מבוא לבינה מלאכותית</div></center>\n",
    "## <center><div style=\"direction:rtl\">תרגול 1 ב' - מבוא לפייתון</div></center>\n",
    "\n",
    "\n",
    "\n"
   ]
  },
  {
   "cell_type": "markdown",
   "metadata": {
    "id": "Xs8rkCwOi0gy"
   },
   "source": [
    "### <div style=\"direction:rtl\" dir=\"rtl\"> Python על קצה המזלג </div>\n",
    "<div style=\"direction:rtl\" dir=\"rtl\">\n",
    "כחלק מדרישות הקורס, אתם תדרשו להגיש 3 תרגילי בית רטובים, הכתובים בשפת פייתון. החדשות הטובות הן שפייתון נחשבת לשפה פשוטה ואינטואיטיבית ללמידה ולשימוש. לאלו מכם שטרם התנסו בשפה - קודם כל, הכל בסדר! הדרך הטובה ביותר ללמוד את השפה היא להתנסות בה בעצמכם.\n",
    "<br><br>\n",
    "איך נכון לקרוא את המסמך הזה? המטרה של התרגול הזה היא נתינת במה לעקרונות חשובים בשפה, בכדי להכווין אתכם על מה לשים דגש בבואכם ללמוד את השפה. המחברת הזאת כוללת לא מעט מידע. לא פשוט לזכור את כל הפרטים שמוצגים כאן לאחר שנתקלתם בהם פעם אחת בתרגול פרונטלי או אחרי קריאה פאסיבית. כאמור, הדרך הטובה ביותר ללמוד היא להתנסות בעצמכם. כשאתם עוברים על הנקודות המוצגות במסמך, נסו להריץ בעצמכם את הקוד שמופיע בכל דוגמא. שחקו עם הקוד. למדתם טריק חדש בשפה? נסו להשתמש בו בעצמכם באמצעות ה- python interpreter במחשב שלכם. \n",
    "<br><br>\n",
    "<b> שימו לב! בקורס נשתמש בפית'ון גירסה 3.8 </b>\n",
    "</div>"
   ]
  },
  {
   "cell_type": "markdown",
   "metadata": {
    "id": "xBd2fLr_i0gy"
   },
   "source": [
    "### <div style=\"direction:rtl\" dir=\"rtl\">תוכן עניינים</div>\n",
    "<div style=\"direction:rtl\" dir=\"rtl\">\n",
    "<ol>\n",
    "<li><a href=\"#env-installation\">התקנת הסביבה</a></li>\n",
    "<li><a href=\"#jupyter-notebook\">מחברת פייתון</a></li>\n",
    "<li><a href=\"#main-properties\">מאפיינים בולטים בשפה</a></li>\n",
    "<li><a href=\"#primitive-types-variables\">טיפוסים פרמיטיביים בשפה ושימוש במשתנים</a></li>\n",
    "<li><a href=\"#comments\">הערות</a></li>\n",
    "<li><a href=\"#data-structures\">מבני נתונים בשפה</a>\n",
    "    <ol>\n",
    "\t<li><a href=\"#data-structures-tuple\">n-יה סדורה / tuple</a></li>\n",
    "\t<li><a href=\"#data-structures-list\">רשימה / list</a></li>\n",
    "\t<li><a href=\"#data-structures-dict\">מילון / dictionary</a></li>\n",
    "\t<li><a href=\"#data-structures-set\">קבוצה / set</a></li>\n",
    "    </ol>\n",
    "</li>\n",
    "<li><a href=\"#basic-operators\">אופרטורים בסיסיים</a></li>\n",
    "<li><a href=\"#interpreter-as-calculator\">שימוש ב- Python Interpreter בתור מחשבון</a></li>\n",
    "<li><a href=\"#if-elif-else\">if, elif, else</a></li>\n",
    "<li><a href=\"#while-loop\">לולאת While</a></li>\n",
    "<li><a href=\"#range-iterator\">range() iterator</a></li>\n",
    "<li><a href=\"#list-slicing\">חתכים של רשימות / List Slicing</a></li>\n",
    "<li><a href=\"#for-loops\">לולאות For</a></li>\n",
    "<li><a href=\"#pass\">הפקודה הריקה pass</a></li>\n",
    "<li><a href=\"#expanding-values\">פתיחת רצף ערכים</a></li>\n",
    "<li><a href=\"#underscore\">שימוש בתו קו תחתון</a></li>\n",
    "<li><a href=\"#functions\">פונקציות / Functions</a></li>\n",
    "<li><a href=\"#list-comprehention\">List Comprehention</a></li>\n",
    "<li><a href=\"#zip-iterator\">zip() iterator</a>\n",
    "    <ol>\n",
    "\t<li><a href=\"#zip-example\">דוגמא לשימוש ב- zip שכוללת כמה דברים שהוזכרו</a></li>\n",
    "    </ol>\n",
    "</li>\n",
    "<li><a href=\"#dict-comprehention\">Dict Comprehention</a></li>\n",
    "<li><a href=\"#classes\">מחלקות / Classes</a></li>\n",
    "<li><a href=\"#exceptions\">חריגות / Exceptions</a></li>\n",
    "<li><a href=\"#help-dir-functions\">שימוש בפונק׳ התיעוד help, dir ב- interpreter</a></li>\n",
    "<li><a href=\"#import-modules\">ייבוא קוד ומודולים</a></li>\n",
    "<li><a href=\"#do-it-right\">פייתון - איך לעשות את זה נכון</a>\n",
    "    <ol>\n",
    "\t<li><a href=\"#do-it-right-example1\">דוגמא 1</a></li>\n",
    "\t<li><a href=\"#do-it-right-example2\">דוגמא 2</a></li>\n",
    "\t<li><a href=\"#do-it-right-example3\">דוגמא 3</a></li>\n",
    "\t<li><a href=\"#do-it-right-example4\">דוגמא 4</a></li>\n",
    "    </ol>\n",
    "</li>\n",
    "<li><a href=\"#adv-assign-semantics\">חלק מתקדם: סמנטיקה של השמה של ערך במשתנה</a></li>\n",
    "<li><a href=\"#tips\">טיפים נוספים</a></li>\n",
    "</ol>\n",
    "</div>"
   ]
  },
  {
   "cell_type": "markdown",
   "metadata": {
    "id": "--6wCfnoi0gz"
   },
   "source": [
    "### <a name=\"env-installation\" /><div style=\"direction:rtl\" dir=\"rtl\">התקנת הסביבה: אז.. מאיפה מתחילים?</div>\n",
    "<div style=\"direction:rtl\" dir=\"rtl\">\n",
    "<ol>\n",
    "<li>התקנת הפצה של Python Interpreter: זוהי התוכנה שתריץ את הקוד שתכתבו. אנחנו ממליצים על <a href=\"https://www.anaconda.com/download/\">Anaconda 3</a>. אנקונדה זו הפצה של פייתון שכוללת מנהל חבילות, המאפשר התקנה והסרה של חבילות פייתון ביתר קלות. ההתקנה הראשונית של אנקונדה מכילה חבילות נפוצות שנשתמש בהן במהלך הקורס.\n",
    "שימו לב, אם מותקנות אצלכם גרסאות אחרות של פייתון, מומלץ למחוק אותן *טרם ההתקנה* של אנקונדה. הערה: במהלך ההתקנה תישאלו האם אתם מעוניינים להוסיף את אנקונדה ל- PATH של המחשב. המשמעות היא שכאשר תכתבו \"python\" מה- command line, יורץ ה- python interpreter שזה עתה התקנתם (ללא תלות באיזו תיקיית עבודה אתם נמצאים כעת). אנחנו ממליצים לסמן ״כן״ עבור שאלה זו. לאחר ההתקנה הריצו את הפקודה הבאה: `conda install python=3.8` מה- command line במחשב, ע״מ לעבור לגרסה בה נשתמש בקורס.</li>\n",
    "<li>התקנת IDE: זוהי תוכנה שמסייעת לכם לכתוב קוד, להריץ אותו ולדבג אותו (כמו Eclipse / CodeBlocks). אנחנו ממליצים על התוכנה <a href=\"https://www.jetbrains.com/pycharm/\">JetBrains PyCharm</a>. יש גרסה חינמית שלו באתר החברה. שימו לב שלאחר פתיחת פרויקט חדש ב- PyCharm לעיתים יש לבחור בהגדרות הפרויקט את מיקום ה- Python Interpreter. זהו מיקום ההתקנה מהשלב הקודם.</li>\n",
    "<li>שימוש אינטראקטיבי ב- interpreter: פתחו command line, רשמו python ולחצו Enter. ייפתח לכם ה- interpreter האינטראקטיבי של פייתון. אתם יכולים לכתוב ביטוי או שורת קוד חוקית בפייתון וללחוץ Enter. ה- interpreter יפרש את הביטוי שרשמתם, ישערך אותו וידפיס את התשובה למסך. בסיום, תוכלו לכתוב פקודה נוספת וכך הלאה. השימוש ב- interpreter בצורה הזאת הינו נוח במיוחד בשביל להתנסות עם השפה.</li>\n",
    "<li>שימוש ב- interpreter כדי להריץ קוד מקובץ: את שיעורי הבית שלכם אתם תכתבו בקבצי קוד (כמו שכתבתם קוד בקורסי תכנות אחרים). אפשר ליצור קובץ חדש עם סיומת `py`, לכתוב בו קוד פייתון כמו print('Hello World'). עכשיו ניתן להריץ את הקוד דרך ה- command line ע״י הפקודה `pyhton my_file.py`. כמובן שאם התקנתם IDE ניתן גם להריץ דרכו את הקוד.</li>\n",
    "</ol>\n",
    "</div>"
   ]
  },
  {
   "cell_type": "markdown",
   "metadata": {
    "id": "eyA-IgaYi0g0"
   },
   "source": [
    "### <a name=\"jupyter-notebook\" /><div style=\"direction:rtl\" dir=\"rtl\">Jupyter notebook</div>\n",
    "<div style=\"direction:rtl\" dir=\"rtl\">\n",
    "אז מה זה בעצם המסמך שאתם רואים עכשיו? זוהי ״מחברת פייתון״ שמאפשרת שילוב של טקסט בד בבד עם קטעי קוד פייתון שניתן להריץ ישירות מתוך המחברת. לאחר הרצת בלוק קוד מהמחברת, פלט ההרצה מודפס ישירות למחברת (מתחת לקטע הקוד המורץ). לאחר הרצת בלוק קוד מהמחברת, בו הוגדר משתנה, פונק׳ או מחלקה, ההגדרה החדשה תהיה תקפה בסקופ של כל המחברת (ניתן להשתמש במשתנה שהוגדר גם מבלוקים אחרים באותה המחברת). ניתן להריץ בלוק קוד ע״י סימונו ולאחר מכן לחיצה על צירוף המקשים Ctrl + Enter. נהוג (ונוח) להשתמש במחברת פייתון כדו״ח לעבודת מחקר שמציג תוצאות בשילוב עם הסברים מילוליים (אם כי בקורס הזה כנראה לא תדרשו לכך). אנחנו משתמשים כאן במחברת כדי להדגים את השימוש ברכיבים בסיסיים בשפה.\n",
    "<br><br>\n",
    "יש שתי דרכים לפתוח את המחברת לעבודה:\n",
    "<ol>\n",
    "<li>דרך ה- Google Colab: זוהי סביבה של גוגל שמאפשרת ליצור ולשתף מחברות פייתון. הסביבה מאפשרת הרצת הקוד שבמחברת מכל מחשב וללא צורך בהתקנת סביבת פייתון על המחשב (רק צריך להיכנס ל<a href=\"https://goo.gl/gP2wwP\">כתובת של המחברת</a> דרך הדפדפן). אם אתם מחוברים לחשבון הגוגל שלכם, תוכלו ללחוץ בתפריט העליון על `File > Save a copy in Drive`. זה יצור לכם עותק זהה משלכם למחברת זו. תוכלו להוסיף הערות, לשנות / להוסיף דוגמאות קוד ולהתנסות בעצמכם בהרצת הקוד.</li>\n",
    "<li>דרך Jupyter notebook: אופציה זו דורשת התקנה של סביבת פייתון למחשב (כפי שהוסבר בחלק הקודם). הורידו מאתר הקורס את הקובץ של המחברת (שהסיומת שלו הינה ipynb). עתה פתחו command line ונווטו מהקונסול לתיקיה איליה הורדתם את הקובץ. רשמו בקונסול `jupyter notebook` ולחצו Enter. לאחר כמה שניות ייפתח לכם הדפדפן. אתם תראו ממשק שבו יוצגו הקבצים בתיקייה איליה ניווטתם מקודם. תוכלו ללחוץ על הקובץ של התרגול. המחברת תפתח לכם ותוכלו לערוך אותה ולהריץ קטעי קוד.</li>\n",
    "</ol>\n",
    "</div>"
   ]
  },
  {
   "cell_type": "markdown",
   "metadata": {
    "id": "3WUh_oWZi0g0"
   },
   "source": [
    "### <a name=\"main-properties\" /><div style=\"direction:rtl\" dir=\"rtl\">מאפיינים בולטים בשפה</div>\n",
    "<div style=\"direction:rtl\" dir=\"rtl\">\n",
    "בבואנו ללמוד שפת תכנות חדשה, ישנם מספר עקרונות בסיסיים שכדאי להכיר ולהבין. נעבור עתה על כמה מהמאפיינים הבולטים המבדילים את השפה פייתון משפות אחרות (כמו שפת C למשל):\n",
    "<br>\n",
    "<ul>\n",
    "<li>Compact code - פיתוח קצר ומימוש מהיר.</li>\n",
    "<li>High Level - כוללת מבני נתונים אבסטרקטיים, למשל השימוש במילונים ורשימות כטיפוסים פרימיטיביים.</li>\n",
    "<li>Interpreted - הקוד מפוענח בזמן הריצה והביצוע, ואינו עובר תהליך קמפול. ניתן להריץ שורות קוד בזו אחר זו, כפי שנעשה במסמך זה.</li>\n",
    "<li>Dynamic Typing - הטיפוס של משתנה אינו ידוע לפני ריצת התוכנית. לאורך התוכנית משתנה יחיד יכול להכיל אובייקטים מטיפוסים שונים.</li>\n",
    "<li>Strongly Typed - ערכים לא משנים טיפוס ללא דרישה מפורשת.</li>\n",
    "<li>Object Oriented - אפשרות למחלקות, אובייקטים, ירושה וכיו\"ב.</li>\n",
    "<li>Platform compatible - אותו קוד python יכול לרוץ בסביבות רבות: Win 32/64, Unix, Linux, Mac.</li>\n",
    "</ul>\n",
    "</div>"
   ]
  },
  {
   "cell_type": "markdown",
   "metadata": {
    "id": "VO5UitqEi0g1"
   },
   "source": [
    "### <a name=\"primitive-types-variables\" /><div style=\"direction:rtl\" dir=\"rtl\">טיפוסים פרמיטיביים בשפה ושימוש במשתנים</div>\n",
    "<div style=\"direction:rtl\" dir=\"rtl\">\n",
    "בפייתון כאשר אנחנו מגדירים משתנה, אנחנו לא צריכים להכריז עליו או על הטיפוס שלו. במקום, הטיפוס נקבע לפי הערך שמוכנס לתוך המשתנה. נשתמש בפונקציה המובנית type כדי להבין טוב יותר איך זה עובד:\n",
    "</div>"
   ]
  },
  {
   "cell_type": "code",
   "execution_count": 1,
   "metadata": {
    "colab": {
     "base_uri": "https://localhost:8080/"
    },
    "executionInfo": {
     "elapsed": 8,
     "status": "ok",
     "timestamp": 1647678680572,
     "user": {
      "displayName": "טל חקלאי",
      "photoUrl": "https://lh3.googleusercontent.com/a/default-user=s64",
      "userId": "00743863728220413182"
     },
     "user_tz": -120
    },
    "id": "_Z-c8aWEi0g1",
    "outputId": "1990d2c2-014c-4d54-d56c-334f5f879f0d"
   },
   "outputs": [
    {
     "name": "stdout",
     "output_type": "stream",
     "text": [
      "5\n",
      "<class 'int'>\n"
     ]
    }
   ],
   "source": [
    "# Integer\n",
    "x = 5  # notice: not `int x = 8` as in C!\n",
    "print(x)\n",
    "print(type(x))"
   ]
  },
  {
   "cell_type": "code",
   "execution_count": 2,
   "metadata": {
    "colab": {
     "base_uri": "https://localhost:8080/"
    },
    "executionInfo": {
     "elapsed": 389,
     "status": "ok",
     "timestamp": 1647678688962,
     "user": {
      "displayName": "טל חקלאי",
      "photoUrl": "https://lh3.googleusercontent.com/a/default-user=s64",
      "userId": "00743863728220413182"
     },
     "user_tz": -120
    },
    "id": "P4spRE31i0g4",
    "outputId": "f1ef9cc6-1c6e-430e-f99f-be7ef5e1bcd9"
   },
   "outputs": [
    {
     "name": "stdout",
     "output_type": "stream",
     "text": [
      "5\n",
      "<class 'int'>\n",
      "aabb\n",
      "<class 'str'>\n"
     ]
    }
   ],
   "source": [
    "print(x)\n",
    "print(type(x))\n",
    "\n",
    "x = \"aabb\"\n",
    "\n",
    "print(x)\n",
    "print(type(x))"
   ]
  },
  {
   "cell_type": "code",
   "execution_count": 3,
   "metadata": {
    "colab": {
     "base_uri": "https://localhost:8080/"
    },
    "executionInfo": {
     "elapsed": 368,
     "status": "ok",
     "timestamp": 1647678705964,
     "user": {
      "displayName": "טל חקלאי",
      "photoUrl": "https://lh3.googleusercontent.com/a/default-user=s64",
      "userId": "00743863728220413182"
     },
     "user_tz": -120
    },
    "id": "c3UXI2lEi0g5",
    "outputId": "3933aefa-b588-4944-921a-4832124dea84"
   },
   "outputs": [
    {
     "name": "stdout",
     "output_type": "stream",
     "text": [
      "5.0\n",
      "<class 'float'>\n"
     ]
    }
   ],
   "source": [
    "# Float\n",
    "y = 5.0\n",
    "print(y)\n",
    "print(type(y))  # Q: how does python knows it?"
   ]
  },
  {
   "cell_type": "code",
   "execution_count": 4,
   "metadata": {
    "colab": {
     "base_uri": "https://localhost:8080/"
    },
    "executionInfo": {
     "elapsed": 371,
     "status": "ok",
     "timestamp": 1647678711589,
     "user": {
      "displayName": "טל חקלאי",
      "photoUrl": "https://lh3.googleusercontent.com/a/default-user=s64",
      "userId": "00743863728220413182"
     },
     "user_tz": -120
    },
    "id": "hicBSyRZi0g7",
    "outputId": "50edf00f-16ab-412a-d787-3d8c363a48a6"
   },
   "outputs": [
    {
     "name": "stdout",
     "output_type": "stream",
     "text": [
      "False\n",
      "False\n"
     ]
    }
   ],
   "source": [
    "print(x == y)\n",
    "print(type(x) == type(y))"
   ]
  },
  {
   "cell_type": "code",
   "execution_count": 5,
   "metadata": {
    "colab": {
     "base_uri": "https://localhost:8080/"
    },
    "executionInfo": {
     "elapsed": 371,
     "status": "ok",
     "timestamp": 1647678732364,
     "user": {
      "displayName": "טל חקלאי",
      "photoUrl": "https://lh3.googleusercontent.com/a/default-user=s64",
      "userId": "00743863728220413182"
     },
     "user_tz": -120
    },
    "id": "vrwbAkwni0g9",
    "outputId": "ff40ba13-18d7-4e19-f468-4e15c236ecfb"
   },
   "outputs": [
    {
     "name": "stdout",
     "output_type": "stream",
     "text": [
      "(1+5j)\n",
      "1.0 5.0\n",
      "<class 'complex'>\n"
     ]
    }
   ],
   "source": [
    "# Complex\n",
    "x = 1+5j  # Q: same var x as before. different obj type. how?\n",
    "print(x)\n",
    "print(x.real, x.imag)\n",
    "print(type(x))"
   ]
  },
  {
   "cell_type": "code",
   "execution_count": 6,
   "metadata": {
    "colab": {
     "base_uri": "https://localhost:8080/"
    },
    "executionInfo": {
     "elapsed": 369,
     "status": "ok",
     "timestamp": 1647678739954,
     "user": {
      "displayName": "טל חקלאי",
      "photoUrl": "https://lh3.googleusercontent.com/a/default-user=s64",
      "userId": "00743863728220413182"
     },
     "user_tz": -120
    },
    "id": "7BxHL1myi0g-",
    "outputId": "12757fef-4a72-4bc2-91bd-907e2322f271"
   },
   "outputs": [
    {
     "name": "stdout",
     "output_type": "stream",
     "text": [
      "<class 'str'>\n",
      "True\n"
     ]
    }
   ],
   "source": [
    "# String\n",
    "x = \"ab\"\n",
    "y = 'ab' # Another way of defining a string\n",
    "print(type(x))\n",
    "print(x == y)"
   ]
  },
  {
   "cell_type": "code",
   "execution_count": 7,
   "metadata": {
    "colab": {
     "base_uri": "https://localhost:8080/"
    },
    "executionInfo": {
     "elapsed": 385,
     "status": "ok",
     "timestamp": 1647678750890,
     "user": {
      "displayName": "טל חקלאי",
      "photoUrl": "https://lh3.googleusercontent.com/a/default-user=s64",
      "userId": "00743863728220413182"
     },
     "user_tz": -120
    },
    "id": "iJnm852bi0hA",
    "outputId": "1f781be4-a8de-419d-9492-f58ec4bd5229"
   },
   "outputs": [
    {
     "name": "stdout",
     "output_type": "stream",
     "text": [
      "abzz\n",
      "abzzxx\n"
     ]
    }
   ],
   "source": [
    "# String concatination (Q: how would you do so in C?)\n",
    "z = x + \"zz\"\n",
    "print(z)\n",
    "z += \"xx\"\n",
    "print(z)"
   ]
  },
  {
   "cell_type": "markdown",
   "metadata": {
    "id": "ieE-TZE4i0hC"
   },
   "source": [
    "<div style=\"direction:rtl\" dir=\"rtl\">\n",
    "הערה לגבי טיפוסיות: שימו לב שבאתחול הראשוני של המשתנה x שמנו בו ערך מטיפוס מס׳ שלם. לאחר מכן הרשינו לעצמינו לשים באותו המשתנה x ערכים אחרים מטיפוסים אחרים: complex, str. באופן כללי, בפייתון למשתנה אין טיפוס. במהלך חייו של משתנה הוא יכול להכיל ערך מכל טיפוס שהוא, ללא תלות בטיפוסיות של הערך הקודם שהיה באותו המשתנה.\n",
    "</div>"
   ]
  },
  {
   "cell_type": "markdown",
   "metadata": {
    "id": "avS2wATCi0hD"
   },
   "source": [
    "### <a name=\"comments\" /><div style=\"direction:rtl\" dir=\"rtl\">הערות</div>\n",
    "<div style=\"direction:rtl\" dir=\"rtl\">\n",
    "בפייתון יש 2 סוגים של הערות. הערות שורה והערות מחרוזת.\n",
    "</div>"
   ]
  },
  {
   "cell_type": "code",
   "execution_count": 8,
   "metadata": {
    "executionInfo": {
     "elapsed": 383,
     "status": "ok",
     "timestamp": 1647678767541,
     "user": {
      "displayName": "טל חקלאי",
      "photoUrl": "https://lh3.googleusercontent.com/a/default-user=s64",
      "userId": "00743863728220413182"
     },
     "user_tz": -120
    },
    "id": "0hHYPqJxi0hE"
   },
   "outputs": [],
   "source": [
    "# this is a line comment\n",
    "a = 8 # can start anywhere"
   ]
  },
  {
   "cell_type": "code",
   "execution_count": 9,
   "metadata": {
    "colab": {
     "base_uri": "https://localhost:8080/",
     "height": 87
    },
    "executionInfo": {
     "elapsed": 9,
     "status": "ok",
     "timestamp": 1647678767906,
     "user": {
      "displayName": "טל חקלאי",
      "photoUrl": "https://lh3.googleusercontent.com/a/default-user=s64",
      "userId": "00743863728220413182"
     },
     "user_tz": -120
    },
    "id": "oKG350yii0hG",
    "outputId": "07e95fbd-ab5e-4d83-b741-a4fff3b71738"
   },
   "outputs": [
    {
     "data": {
      "application/vnd.google.colaboratory.intrinsic+json": {
       "type": "string"
      },
      "text/plain": [
       "'\\n    This is a string comment.\\n    It is actually evaluated as a string.\\n    String literal does not have side effect on the program,\\n    except for exploiting space in memory for the string object.\\n    It can contain line breaks and other special characters.\\n    For example - can contain \"\" and \\'\\'\\n    Usually used for documenting functions and classes.\\n    When the first line in the function/class has a string comment,\\n    `help()` function may be used on the function/class to display it.\\n'"
      ]
     },
     "execution_count": 9,
     "metadata": {},
     "output_type": "execute_result"
    }
   ],
   "source": [
    "\"\"\"\n",
    "    This is a string comment.\n",
    "    It is actually evaluated as a string.\n",
    "    String literal does not have side effect on the program,\n",
    "    except for exploiting space in memory for the string object.\n",
    "    It can contain line breaks and other special characters.\n",
    "    For example - can contain \"\" and ''\n",
    "    Usually used for documenting functions and classes.\n",
    "    When the first line in the function/class has a string comment,\n",
    "    `help()` function may be used on the function/class to display it.\n",
    "\"\"\""
   ]
  },
  {
   "cell_type": "markdown",
   "metadata": {
    "id": "OS7qyfSmi0hH"
   },
   "source": [
    "### <a name=\"data-structures\" /><div style=\"direction:rtl\" dir=\"rtl\">מבני נתונים בשפה</div>\n",
    "<div style=\"direction:rtl\" dir=\"rtl\">\n",
    "בשפה יש 4 מבני נתונים בסיסיים ושימושיים: tuple, list, set, dict. נציג את אופן השימוש בכל אחד מהם. לכל מבנה נתונים יש ייעוד אחר ו- API שונה. לכל מבנה יש פונקציונליות רבה. נציג כאן רק את הדברים הבסיסיים.\n",
    "</div>"
   ]
  },
  {
   "cell_type": "markdown",
   "metadata": {
    "id": "gSR-Vb8Yi0hI"
   },
   "source": [
    "#### <a name=\"data-structures-tuple\" /><div style=\"direction:rtl\" dir=\"rtl\">n-יה סדורה / tuple</div>\n",
    "<div style=\"direction:rtl\" dir=\"rtl\">לעיתים נרצה לקבץ מספר ערכים כ- n-יה סדורה (זוג, שלישייה, רביעייה, ...). למשל, אם נרצה שפונק׳ תחזיר יותר מערך אחד, היא יכולה להחזיר tuple שמורכב ממספר ערכים. דוגמא נוספת: אם נרצה שכל תא ברשימה יכיל זוג ערכים, למשל אורך ורוחב של מלבן.</div>"
   ]
  },
  {
   "cell_type": "code",
   "execution_count": null,
   "metadata": {
    "id": "MWSIaDrKi0hI"
   },
   "outputs": [],
   "source": [
    "# Tuple\n",
    "x = (1,2)\n",
    "print(x)\n",
    "print(type(x))\n",
    "print(x[1])"
   ]
  },
  {
   "cell_type": "markdown",
   "metadata": {
    "id": "cE7VC8xci0hK"
   },
   "source": [
    "<div style=\"direction:rtl\" dir=\"rtl\">\n",
    "הערה: tuple הינו \"immutable\". זה אומר שבהינתן אובייקט מסוג tuple, לא ניתן לשנות אותו. למה זה טוב? לפעמים זה מועיל שיש טיפוס שלא ניתן לשנות אותו. בהמשך נראה דוגמא לכך. \n",
    "</div>"
   ]
  },
  {
   "cell_type": "code",
   "execution_count": null,
   "metadata": {
    "id": "TyMR2Elvi0hK"
   },
   "outputs": [],
   "source": [
    "x[0] = 3 # Should throw error, tuple is immutable"
   ]
  },
  {
   "cell_type": "markdown",
   "metadata": {
    "id": "XoykDdM6i0hM"
   },
   "source": [
    "<div style=\"direction:rtl\" dir=\"rtl\">\n",
    "בדוגמא שלעיל האובייקט שמוצבע ע״י המשתנה x אמנם אינו ניתן לשינוי. עם זאת, שימו לב שהמשתנה x עצמו ניתן לשינוי, כלומר ניתן לשים בו מצביע לאובייקט אחר.\n",
    "</div>"
   ]
  },
  {
   "cell_type": "code",
   "execution_count": null,
   "metadata": {
    "id": "L91C7dM-i0hN"
   },
   "outputs": [],
   "source": [
    "print(id(x)) # the \"memory address\" of the current object that is stored inside of the variable `x`\n",
    "x = (3,2) # creating a NEW tuple object, and storing it inside the same variable `x`\n",
    "print(id(x)) # the \"memory address\" of the new tuple\n",
    "print(x)"
   ]
  },
  {
   "cell_type": "markdown",
   "metadata": {
    "id": "N9SMZl0Ri0hO"
   },
   "source": [
    "#### <a name=\"data-structures-list\" /><div style=\"direction:rtl\" dir=\"rtl\">רשימה / list</div>\n",
    "<div style=\"direction:rtl\" dir=\"rtl\">ניתן להוסיף ולמחוק איברים מרשימה. ניתן לשאול על קיום של איבר ברשימה. הרשימה היא כמובן סדורה.</div>"
   ]
  },
  {
   "cell_type": "code",
   "execution_count": null,
   "metadata": {
    "id": "mZ-s-uO8i0hP",
    "scrolled": true
   },
   "outputs": [],
   "source": [
    "# List\n",
    "x = [5, \"abc\", 7, 7]\n",
    "print(x)\n",
    "print(type(x))\n",
    "print(type(x[1]))"
   ]
  },
  {
   "cell_type": "code",
   "execution_count": null,
   "metadata": {
    "id": "O55a5mhHi0hQ"
   },
   "outputs": [],
   "source": [
    "# Insert obejects into the list\n",
    "x.append(\"a\")\n",
    "x.append((3,5))\n",
    "x.append(['bb', 7])\n",
    "x.remove(5)\n",
    "print(x)"
   ]
  },
  {
   "cell_type": "code",
   "execution_count": null,
   "metadata": {
    "id": "IADRWB4Bi0hS"
   },
   "outputs": [],
   "source": [
    "x = [5, \"abc\"]\n",
    "x.extend([\"b\", \"c\"])\n",
    "x"
   ]
  },
  {
   "cell_type": "code",
   "execution_count": null,
   "metadata": {
    "id": "xWcm8V0Ai0hU"
   },
   "outputs": [],
   "source": [
    "x + [\"d\", \"e\"] # unlike extend, creates a new list"
   ]
  },
  {
   "cell_type": "code",
   "execution_count": null,
   "metadata": {
    "id": "koaa2cqqi0hW"
   },
   "outputs": [],
   "source": [
    "print(\"abc\" in x)\n",
    "print(\"abcd\" in x)"
   ]
  },
  {
   "cell_type": "code",
   "execution_count": null,
   "metadata": {
    "id": "XD26aCUEi0hZ"
   },
   "outputs": [],
   "source": [
    "del x[1]\n",
    "x"
   ]
  },
  {
   "cell_type": "code",
   "execution_count": null,
   "metadata": {
    "id": "cKzJimMxi0hb"
   },
   "outputs": [],
   "source": [
    "x * 2"
   ]
  },
  {
   "cell_type": "markdown",
   "metadata": {
    "id": "WL7kNVvsi0hd"
   },
   "source": [
    "<div style=\"direction:rtl\" dir=\"rtl\">\n",
    "הערה לגבי טיפוסיות: אותה רשימה יכולה להכיל אובייקטים מטיפוסים שונים.\n",
    "</div>"
   ]
  },
  {
   "cell_type": "markdown",
   "metadata": {
    "id": "15lRsJ9ui0he"
   },
   "source": [
    "#### <a name=\"data-structures-dict\" /><div style=\"direction:rtl\" dir=\"rtl\">מילון / dictionary</div>\n",
    "<div style=\"direction:rtl\" dir=\"rtl\">מילון (dictionary) הוא מבנה נתונים הדומה למערך אסוציאטיבי. מדובר בסדרת זוגות key-value, כאשר כל מפתח ממופה לאובייקט יחיד. בשיעורי הבית תיווכחו לראות שהמילון שימושי במקרים רבים.</div>"
   ]
  },
  {
   "cell_type": "code",
   "execution_count": null,
   "metadata": {
    "id": "Qs1UAcNMi0he"
   },
   "outputs": [],
   "source": [
    "# Dictionary: key:value pairs\n",
    "x = {1:'a', 2:88, 'this is a key': 'this is a value'}\n",
    "print(type(x))\n",
    "print(x)\n",
    "print(x[1])\n",
    "print(x[2])\n",
    "print(x['this is a key'])"
   ]
  },
  {
   "cell_type": "code",
   "execution_count": null,
   "metadata": {
    "id": "NHdEC7kyi0hh"
   },
   "outputs": [],
   "source": [
    "# dictionary is mutable:"
   ]
  },
  {
   "cell_type": "code",
   "execution_count": null,
   "metadata": {
    "id": "MfjGI0ybi0hj"
   },
   "outputs": [],
   "source": [
    "# change value for a given key\n",
    "x[1] = 'one'\n",
    "print(x)"
   ]
  },
  {
   "cell_type": "code",
   "execution_count": null,
   "metadata": {
    "id": "QfWgEzURi0hk"
   },
   "outputs": [],
   "source": [
    "# delete a key\n",
    "del x[2]\n",
    "print(x)"
   ]
  },
  {
   "cell_type": "code",
   "execution_count": null,
   "metadata": {
    "id": "EVIKonb0i0hm"
   },
   "outputs": [],
   "source": [
    "# add another key-value pair\n",
    "x['aaa'] = 'bbb'\n",
    "print(x)"
   ]
  },
  {
   "cell_type": "code",
   "execution_count": null,
   "metadata": {
    "id": "S1z6VmM5i0ho"
   },
   "outputs": [],
   "source": [
    "# check (efficiently) whether a given key exists in the dict\n",
    "print(1 in x)\n",
    "print(2 in x)\n",
    "print('aaa' in x)\n",
    "print('a' in x)"
   ]
  },
  {
   "cell_type": "code",
   "execution_count": null,
   "metadata": {
    "id": "2pMF1xJNi0hq"
   },
   "outputs": [],
   "source": [
    "x['aaa'] # get the object mapped by the key 'aaa'"
   ]
  },
  {
   "cell_type": "code",
   "execution_count": null,
   "metadata": {
    "id": "dvqGQTQ9i0hr"
   },
   "outputs": [],
   "source": [
    "x['a'] # error: 'a' is not in the dict"
   ]
  },
  {
   "cell_type": "code",
   "execution_count": null,
   "metadata": {
    "id": "4BNimK41i0hw"
   },
   "outputs": [],
   "source": [
    "print(x.get('aaa'))\n",
    "print(x.get('a'))"
   ]
  },
  {
   "cell_type": "markdown",
   "metadata": {
    "id": "yy3dx32fi0h0"
   },
   "source": [
    "<div style=\"direction:rtl\" dir=\"rtl\">המפתח של זוג במילון חייב להיות immutable. בפייתון טיפוסים פרימיטיביים (int,str,float) הינם immutable (עוד על כך בסוף מחברת זו). לעומת המפתח, הערך יכול להיות mutable. הנה דוגמא למקרה שבו נרצה להשתמש ב- tuple במקום ב- list.</div>"
   ]
  },
  {
   "cell_type": "code",
   "execution_count": null,
   "metadata": {
    "id": "ST89PKgRi0h1"
   },
   "outputs": [],
   "source": [
    "{[1,2]: 'a'} # error, because list type is mutable (and hence unhashable)"
   ]
  },
  {
   "cell_type": "code",
   "execution_count": null,
   "metadata": {
    "id": "GMlHw5lKi0h2"
   },
   "outputs": [],
   "source": [
    "{(1,2): 'a'} # it is ok because tuple type is immutable"
   ]
  },
  {
   "cell_type": "markdown",
   "metadata": {
    "id": "DaL2RMCqi0h4"
   },
   "source": [
    "#### <a name=\"data-structures-set\" /><div style=\"direction:rtl\" dir=\"rtl\">קבוצה / set</div>\n",
    "<div style=\"direction:rtl\" dir=\"rtl\">לעיתים לא מעניין אותנו הסדר בין האיברים או כפילויות של איברים. במקרים כאלו אפשר להשתמש בקבוצה.</div>"
   ]
  },
  {
   "cell_type": "code",
   "execution_count": null,
   "metadata": {
    "id": "Ed_WbsPOi0h4"
   },
   "outputs": [],
   "source": [
    "# Set\n",
    "x = {1, 'a', 7}\n",
    "print(x)\n",
    "print(type(x))"
   ]
  },
  {
   "cell_type": "code",
   "execution_count": null,
   "metadata": {
    "id": "DuLvLL31i0h5"
   },
   "outputs": [],
   "source": [
    "print(1 in x)\n",
    "print(2 in x)\n",
    "print('a' in x)"
   ]
  },
  {
   "cell_type": "code",
   "execution_count": null,
   "metadata": {
    "id": "4z5TbRggi0h7"
   },
   "outputs": [],
   "source": [
    "x.remove(1)\n",
    "x.add(2)\n",
    "print(1 in x)\n",
    "print(2 in x)"
   ]
  },
  {
   "cell_type": "code",
   "execution_count": null,
   "metadata": {
    "id": "G-44eATsi0h8"
   },
   "outputs": [],
   "source": [
    "print({1,2} | {2,3}) # set union\n",
    "print({1,2} & {2,3}) # set intersection\n",
    "print({1,2} ^ {2,3}) # set symmetric diff"
   ]
  },
  {
   "cell_type": "markdown",
   "metadata": {
    "id": "oOxBkGngi0h9"
   },
   "source": [
    "### <a name=\"basic-operators\" /><div style=\"direction:rtl\" dir=\"rtl\">אופרטורים בסיסיים</div>"
   ]
  },
  {
   "cell_type": "code",
   "execution_count": null,
   "metadata": {
    "id": "kdEGPatJi0h_"
   },
   "outputs": [],
   "source": [
    "# Basic arithmetics\n",
    "(1 + 2) - (3 * 4)"
   ]
  },
  {
   "cell_type": "code",
   "execution_count": null,
   "metadata": {
    "id": "TxWezPsii0iB"
   },
   "outputs": [],
   "source": [
    "# Devision\n",
    "print(5/2) # normal\n",
    "print(5//2) # floor devision\n",
    "print(5 % 2) # modulu"
   ]
  },
  {
   "cell_type": "code",
   "execution_count": null,
   "metadata": {
    "id": "d1PzKcC9i0iC"
   },
   "outputs": [],
   "source": [
    "# Comparisons and Logical operators\n",
    "print(2>1 and 3>4)\n",
    "print(2>1 or 3>4)\n",
    "print(not 2>1)"
   ]
  },
  {
   "cell_type": "code",
   "execution_count": null,
   "metadata": {
    "id": "eopoTqsli0iE"
   },
   "outputs": [],
   "source": [
    "# Power\n",
    "x = 2**3\n",
    "print(x)"
   ]
  },
  {
   "cell_type": "code",
   "execution_count": null,
   "metadata": {
    "id": "dPe3H81Ei0iF"
   },
   "outputs": [],
   "source": [
    "# Assignment\n",
    "x += 3 # Works with **=,^=,etc.  \n",
    "print(x)"
   ]
  },
  {
   "cell_type": "markdown",
   "metadata": {
    "id": "SomL2PXei0iH"
   },
   "source": [
    "<div style=\"direction:rtl\" dir=\"rtl\">אופרטורים בינאריים:</div>\n",
    "\n",
    "* Boolean bit ops: & (and), | (or), ^ (xor) ~ (neg)...\n",
    "* Bit shift: <<, >>\n",
    "\n",
    "<div style=\"direction:rtl\" dir=\"rtl\">רוב האופרטורים מוגדרים לכל הטיפוסים עבורם השימוש הגיוני (למשל חיבור עבור שרשור מחרוזות/טאפלים/רשימות).</div>"
   ]
  },
  {
   "cell_type": "code",
   "execution_count": null,
   "metadata": {
    "id": "cjUpTO5pi0iJ"
   },
   "outputs": [],
   "source": [
    "print(2<<3, 2>>1)\n",
    "print(4 | 1)\n",
    "print(bin(4), bin(1))\n",
    "print(bin(4+1))"
   ]
  },
  {
   "cell_type": "markdown",
   "metadata": {
    "id": "X6pUJyCli0iK"
   },
   "source": [
    "### <a name=\"interpreter-as-calculator\" /><div style=\"direction:rtl\" dir=\"rtl\">שימוש ב- Python Interpreter בתור מחשבון</div>\n",
    "<div style=\"direction:rtl\" dir=\"rtl\">\n",
    "ניתן להשתמש ב- interpreter כמחשבון פשוט, ע\"י הכנסת כל ביטוי שתרצו לשערך. נראה כמה זה קל!\n",
    "</div>"
   ]
  },
  {
   "cell_type": "code",
   "execution_count": null,
   "metadata": {
    "id": "jj4OygfRi0iL"
   },
   "outputs": [],
   "source": [
    "4.5 // 2, 4.5 % 2"
   ]
  },
  {
   "cell_type": "code",
   "execution_count": null,
   "metadata": {
    "id": "Li8GDaTNi0iM"
   },
   "outputs": [],
   "source": [
    "True and False"
   ]
  },
  {
   "cell_type": "code",
   "execution_count": null,
   "metadata": {
    "id": "UalPTwuAi0iP"
   },
   "outputs": [],
   "source": [
    "(1+2j) + (3-1j)"
   ]
  },
  {
   "cell_type": "markdown",
   "metadata": {
    "id": "_8q9gNTTi0iQ"
   },
   "source": [
    "<div style=\"direction:rtl\" dir=\"rtl\">בפייתון, ניתן להמיר כל אובייקט לערך בוליאני של אמת או שקר. האופרטורים \"or\" ו-\"and\" תמיד יחזירו אחד מהאופרנדים שלהם.\n",
    "<br>\n",
    "רוב הערכים נחשבים ל- True, דוגמאות לערכים שהם False:</div>\n",
    "<ul>\n",
    "<li> None </li>\n",
    "<li> False </li>\n",
    "<li> zero of any numeric type. For example: 0, 0L, 0.0, 0j. </li>\n",
    "<li> Any empty sequence. For example: \"\", (), [], {}.</li>\n",
    "</ul>"
   ]
  },
  {
   "cell_type": "code",
   "execution_count": null,
   "metadata": {
    "id": "GPVKhzYBi0iR"
   },
   "outputs": [],
   "source": [
    "2 or 5>1"
   ]
  },
  {
   "cell_type": "code",
   "execution_count": null,
   "metadata": {
    "id": "oEUeQXIai0iS"
   },
   "outputs": [],
   "source": [
    "5>1 or 2"
   ]
  },
  {
   "cell_type": "markdown",
   "metadata": {
    "id": "fmmZu_V9i0iT"
   },
   "source": [
    "### <a name=\"if-elif-else\" /><div style=\"direction:rtl\" dir=\"rtl\">if, elif, else</div>"
   ]
  },
  {
   "cell_type": "code",
   "execution_count": null,
   "metadata": {
    "id": "qf18P8CEi0iT"
   },
   "outputs": [],
   "source": [
    "x = input()\n",
    "x"
   ]
  },
  {
   "cell_type": "code",
   "execution_count": null,
   "metadata": {
    "id": "QQB8lA2Ei0iU"
   },
   "outputs": [],
   "source": [
    "x = int(x)\n",
    "x"
   ]
  },
  {
   "cell_type": "code",
   "execution_count": null,
   "metadata": {
    "id": "p0fCZWnXi0iW"
   },
   "outputs": [],
   "source": [
    "x = 11\n",
    "if x < 0:\n",
    "    print(\"negative\")\n",
    "elif 0 <= x <= 9:\n",
    "    print(\"small\")\n",
    "else:\n",
    "    print(\"large\")"
   ]
  },
  {
   "cell_type": "markdown",
   "metadata": {
    "id": "lhzgOgrii0iY"
   },
   "source": [
    "<div style=\"direction:rtl\" dir=\"rtl\">\n",
    "כמה הערות:\n",
    "<ul>\n",
    "<li> הפונקציה input משמשת לבקשת קלט מהמשתמש, ומחזירה string</li>\n",
    "<li> ניצן להמיר בין טיפוסים בעזרת פונ' בשם הטיפוס, למשל int</li>\n",
    "<li> שימו לב שהתו ':' הוא חלק מהסינטקס של הפקודה </li>\n",
    "<li> שימו לב שמידת ההזחה קובעת את ה-block של הקוד, ואין שימוש בסוגריים מסולסלות </li>\n",
    "<li> בשימוש בinterpreter ניתן להכניס פקודה של כמה שורות כמו if. החלון יתן לכם שורת input משנית המתילה ב\"...\" </li>\n",
    "<li> שימו לב כי יש כאן אפשרות לתנאי משולב על x </li>\n",
    "</ul>\n",
    "</div>"
   ]
  },
  {
   "cell_type": "markdown",
   "metadata": {
    "id": "-pWWPoFai0iY"
   },
   "source": [
    "### <a name=\"while-loop\" /><div style=\"direction:rtl\" dir=\"rtl\">לולאת While</div>\n",
    "<div style=\"direction:rtl\" dir=\"rtl\">\n",
    "<ul>\n",
    "<li> התו ':' הוא שוב חלק מהסינטקס של הפקודה </li>\n",
    "<li> ניתן להשתמש בפקודות continue וגם break כמו בC </li>\n",
    "<li> שימו לב לשימוש ב-'while-else' </li>\n",
    "</ul>\n",
    "</div>"
   ]
  },
  {
   "cell_type": "code",
   "execution_count": null,
   "metadata": {
    "id": "6uBJBd-7i0iZ"
   },
   "outputs": [],
   "source": [
    "x = 1234\n",
    "sum = 0\n",
    "\n",
    "while x>0:\n",
    "    sum += x % 10\n",
    "    x //= 10\n",
    "    \n",
    "print(sum)"
   ]
  },
  {
   "cell_type": "code",
   "execution_count": null,
   "metadata": {
    "id": "YKtGdc1si0ia"
   },
   "outputs": [],
   "source": [
    "# while-else example\n",
    "x = 3\n",
    "\n",
    "while x > 0:\n",
    "    print(x)\n",
    "    x -= 1\n",
    "else:\n",
    "    print(\"DONE\")\n",
    "    "
   ]
  },
  {
   "cell_type": "code",
   "execution_count": null,
   "metadata": {
    "id": "dP155xmPi0ic"
   },
   "outputs": [],
   "source": [
    "# Another while-else example\n",
    "x = 3\n",
    "\n",
    "while True:\n",
    "    print(x)\n",
    "    x -= 1\n",
    "    if x <= 0:\n",
    "        break\n",
    "else: # Coupled with the while and not the if due to indentation\n",
    "    print(\"You won't see this!\")\n",
    "    "
   ]
  },
  {
   "cell_type": "markdown",
   "metadata": {
    "id": "psQ7M1sSi0id"
   },
   "source": [
    "### <a name=\"range-iterator\" /><div style=\"direction:rtl\" dir=\"rtl\">range() iterator</div>\n",
    "<div style=\"direction:rtl\" dir=\"rtl\">\n",
    "<ul>\n",
    "<li> מייצר סדרות מספרים רצופים שהינם immutable</li>\n",
    "<li> בדיפולט range הוא עצלן, כך שהוא מחשב את הערך הבא ברשימה רק כאשר התוכנית משתמשת בו, ובכך חוסך זיכרון. </li>\n",
    "<li> הפיכת הפלט לlist מכריח את range לייצר את כל הרשימה. </li>\n",
    "</ul>\n",
    "</div>"
   ]
  },
  {
   "cell_type": "code",
   "execution_count": null,
   "metadata": {
    "id": "I-aLZmEgi0id"
   },
   "outputs": [],
   "source": [
    "range(5)\n",
    "list(range(5))"
   ]
  },
  {
   "cell_type": "code",
   "execution_count": null,
   "metadata": {
    "id": "epVIyV1Ti0ie"
   },
   "outputs": [],
   "source": [
    "range(5)"
   ]
  },
  {
   "cell_type": "code",
   "execution_count": null,
   "metadata": {
    "id": "MBCDrN-ei0ij"
   },
   "outputs": [],
   "source": [
    "list(range(5,8))"
   ]
  },
  {
   "cell_type": "code",
   "execution_count": null,
   "metadata": {
    "id": "Ncm3Yfzai0il"
   },
   "outputs": [],
   "source": [
    "list(range(8,2,-2))"
   ]
  },
  {
   "cell_type": "markdown",
   "metadata": {
    "id": "I5t21rlei0ip"
   },
   "source": [
    "### <a name=\"list-slicing\" /><div style=\"direction:rtl\" dir=\"rtl\" >חתכים של רשימות / List Slicing</div>\n",
    "<div style=\"direction:rtl\" dir=\"rtl\">\n",
    "פייתון מאפשרת לנו גם לגשת רק לחלק מסויים מהרשימה ע\"י פעולה שנקראת slicing. ניתן לגשת לחלק מהרשימה ע\"י שימוש בסוגריים מרובעות לגישה ע\"י [התחלה: סוף] או [התחלה: סוף: קפיצה]\n",
    "</div>"
   ]
  },
  {
   "cell_type": "code",
   "execution_count": null,
   "metadata": {
    "id": "lN-jlPn6i0it"
   },
   "outputs": [],
   "source": [
    "list2 = list(range(5)) + list(range(5,8))\n",
    "print(list2)"
   ]
  },
  {
   "cell_type": "code",
   "execution_count": null,
   "metadata": {
    "id": "g3gTZ75li0iv"
   },
   "outputs": [],
   "source": [
    "list2[3:5]"
   ]
  },
  {
   "cell_type": "code",
   "execution_count": null,
   "metadata": {
    "id": "a2hXW-bAi0iw"
   },
   "outputs": [],
   "source": [
    "list2[2:]"
   ]
  },
  {
   "cell_type": "code",
   "execution_count": null,
   "metadata": {
    "id": "UY6lJA42i0ix"
   },
   "outputs": [],
   "source": [
    "list2[2:7:2]"
   ]
  },
  {
   "cell_type": "code",
   "execution_count": null,
   "metadata": {
    "id": "_Wt3liQgi0iz"
   },
   "outputs": [],
   "source": [
    "list2[::-1] # Reverse the list!"
   ]
  },
  {
   "cell_type": "code",
   "execution_count": null,
   "metadata": {
    "id": "zx6-VjAHi0i3"
   },
   "outputs": [],
   "source": [
    "list2[2:4] = ['A', 'B', 4.2, True]\n",
    "# Different types of objects can be in the same list\n",
    "# Replace part of list with another list of different size\n",
    "\n",
    "list2"
   ]
  },
  {
   "cell_type": "markdown",
   "metadata": {
    "id": "W24xg4QCi0i4"
   },
   "source": [
    "### <a name=\"for-loops\" /><div style=\"direction:rtl\" dir=\"rtl\">לולאות For</div>\n",
    "<div style=\"direction:rtl\" dir=\"rtl\">\n",
    "לאחר המילה `in` צריך להופיע אובייקט שניתן לבצע עליו איטרציה. תמיד ניתן לבצע איטרציה על מבני נתונים (רשימה, טאפל, מילון, קבוצה). בנוסף, ניתן לבצע איטרציה על גנרטורים/איטרטורים. אנחנו לא מכסים בתרגול זה את נושא הגנרטורים/איטרטורים (פרט להצגת האיטרטורים range, zip).\n",
    "</div>"
   ]
  },
  {
   "cell_type": "code",
   "execution_count": null,
   "metadata": {
    "id": "S0APTKuYi0i4"
   },
   "outputs": [],
   "source": [
    "for x in range(10):\n",
    "    print(\"{} SQ {}\".format(x,x**2))\n",
    "else:\n",
    "    print(\"%20s !\" % \"I'm done\")"
   ]
  },
  {
   "cell_type": "markdown",
   "metadata": {
    "id": "51BzpQ1oi0i5"
   },
   "source": [
    "<div style=\"direction:rtl\" dir=\"rtl\">\n",
    "<ul>\n",
    "<li> ניתן להדפיס עם %d, %s באופן דומה לC. זו הדרך העדיפה להדפיס ערכי משתנים.</li>\n",
    "<li> שימו לב שגם כאן ניתן להשתמש בelse</li>\n",
    "</ul>\n",
    "</div>"
   ]
  },
  {
   "cell_type": "markdown",
   "metadata": {
    "id": "NX2m7qk8i0i6"
   },
   "source": [
    "### <a name=\"pass\" /><div style=\"direction:rtl\" dir=\"rtl\">הפקודה הריקה pass</div>\n",
    "<div style=\"direction:rtl\" dir=\"rtl\">\n",
    "הפקודה pass לא עושה כלום. נהוג להשתמש בה בבלוק שהתוכן שלו עדיין לא ממומש, במיוחד בעת דיבוג או במהלך כתיבת הקוד. שכן בלוק ריק אינו חוקי בשפה.\n",
    "</div>"
   ]
  },
  {
   "cell_type": "code",
   "execution_count": null,
   "metadata": {
    "id": "oV_MQjz6i0i6"
   },
   "outputs": [],
   "source": [
    "for i in range(10):\n",
    "    pass"
   ]
  },
  {
   "cell_type": "markdown",
   "metadata": {
    "id": "g6ABPfJxi0i7"
   },
   "source": [
    "### <a name=\"expanding-values\" /><div style=\"direction:rtl\" dir=\"rtl\">פתיחת רצף ערכים</div>\n",
    "<div style=\"direction:rtl\" dir=\"rtl\">\n",
    "לפעמים יש לנו tuple/list ואנחנו יודעים מראש מה הגודל שלו (למשל אם הוא חזר מפונק׳ שידוע שמחזירה תמיד זוג ערכים). במקרה כזה לפעמים נוח לנו ״לפרק״ את ה- tuple/list הזה לערכיו. כך ניתן להכניס כל ערך ב- tuple למשתנה בעל שם משמעותי, במקום לגשת לערך ע״י `my_tuple[1]` (פחות קריא, לא ברור מה אמור להיות במקום השני בטאפל). מקרה נפוץ הוא כשמבצעים איטרציה על איטרטור שמחזיר זוגות. \n",
    "</div>"
   ]
  },
  {
   "cell_type": "code",
   "execution_count": null,
   "metadata": {
    "id": "DTpiP03Di0i7"
   },
   "outputs": [],
   "source": [
    "t = ('ido', 24)\n",
    "name, age = t\n",
    "print(name)  # much more informative than `t[0]`\n",
    "print(age)"
   ]
  },
  {
   "cell_type": "code",
   "execution_count": null,
   "metadata": {
    "id": "jeoMmzVBi0i8"
   },
   "outputs": [],
   "source": [
    "# same with lists\n",
    "a, b = [1,2]\n",
    "print(a)\n",
    "print(b)"
   ]
  },
  {
   "cell_type": "code",
   "execution_count": null,
   "metadata": {
    "id": "3PB9O_pqi0i-"
   },
   "outputs": [],
   "source": [
    "d = {1: 'a', 2: 'b', 3: 'c'}"
   ]
  },
  {
   "cell_type": "code",
   "execution_count": null,
   "metadata": {
    "id": "6uMV0cXoi0i_"
   },
   "outputs": [],
   "source": [
    "# the `dict.items()` iterator iterates over pairs.\n",
    "for key_value_pair in d.items():\n",
    "    print(key_value_pair)"
   ]
  },
  {
   "cell_type": "code",
   "execution_count": null,
   "metadata": {
    "id": "HLlSfYMDi0jB"
   },
   "outputs": [],
   "source": [
    "# here we expand the pairs into key&value.\n",
    "for key, value in d.items():\n",
    "    print('key: {} ; value: {}'.format(key, value))"
   ]
  },
  {
   "cell_type": "code",
   "execution_count": null,
   "metadata": {
    "id": "uQKnF3sUi0jC"
   },
   "outputs": [],
   "source": [
    "pairs = [(1, 'a'), (2, 'b'), (3, 'c')]"
   ]
  },
  {
   "cell_type": "code",
   "execution_count": null,
   "metadata": {
    "id": "d5Xe43H7i0jD"
   },
   "outputs": [],
   "source": [
    "for pair in pairs:\n",
    "    print(pair)"
   ]
  },
  {
   "cell_type": "code",
   "execution_count": null,
   "metadata": {
    "id": "j0hktQWHi0jE"
   },
   "outputs": [],
   "source": [
    "for a, b in pairs:\n",
    "    print('a: {} ; b: {}'.format(a, b))"
   ]
  },
  {
   "cell_type": "markdown",
   "metadata": {
    "id": "JJ4Q_BNNi0jG"
   },
   "source": [
    "### <a name=\"underscore\" /><div style=\"direction:rtl\" dir=\"rtl\">שימוש בתו קו תחתון</div>\n",
    "<div style=\"direction:rtl\" dir=\"rtl\">\n",
    "ישנם 2 שימושים לסימן קו תחתון ׳_׳.\n",
    "</div>"
   ]
  },
  {
   "cell_type": "code",
   "execution_count": null,
   "metadata": {
    "id": "cpDCAOz1i0jG"
   },
   "outputs": [],
   "source": [
    "# When we do not need the value expanded\n",
    "# in a `for-in` expression.\n",
    "for _ in range(10):\n",
    "    print('hello')\n",
    "\n",
    "# When we iterate over tuples and don't\n",
    "# need some of the expanded values.\n",
    "pairs = [(1, 'a'), (2, 'b'), (3, 'c')]\n",
    "for _, value in pairs:\n",
    "    value"
   ]
  },
  {
   "cell_type": "code",
   "execution_count": null,
   "metadata": {
    "id": "hehcsHRzi0jH"
   },
   "outputs": [],
   "source": [
    "# When we work with the INTERPRETER console and\n",
    "# we want to use the last evaluated value.\n",
    "[1,2,3,4,5,6] # evaluating this expression creates a list\n",
    "my_list = _"
   ]
  },
  {
   "cell_type": "markdown",
   "metadata": {
    "id": "WgyM1T1ji0jK"
   },
   "source": [
    "### <a name=\"functions\" /><div style=\"direction:rtl\" dir=\"rtl\">פונקציות / Functions</div>\n",
    "\n",
    "```python\n",
    "def <func-name>(<params...>):\n",
    "\n",
    "    ...\n",
    "    \n",
    "    return <ret-val>\n",
    "```"
   ]
  },
  {
   "cell_type": "code",
   "execution_count": null,
   "metadata": {
    "id": "_zRPeq8si0jK"
   },
   "outputs": [],
   "source": [
    "def factorial(n):\n",
    "    result = 1\n",
    "    i = 2\n",
    "    while i <= n:\n",
    "        result = result * i\n",
    "        i += 1\n",
    "    return result"
   ]
  },
  {
   "cell_type": "code",
   "execution_count": null,
   "metadata": {
    "id": "6aw2qh5Qi0jL"
   },
   "outputs": [],
   "source": [
    "\"6!\", f(6)"
   ]
  },
  {
   "cell_type": "markdown",
   "metadata": {
    "id": "a7DijEbui0jM"
   },
   "source": [
    "<div style=\"direction:rtl\" dir=\"rtl\">\n",
    "לאחר הגדרת פונקציה, פייתון מייצר אובייקט המייצג אותה, ושם הפונקציה נהיה המזהה שלה (כמו משתנה).\n",
    "<br>\n",
    "ניתן לשמור את האובייקט הזה במשתנה אחר, ויש לו מאפיינים ומתודות כמו כל אובייקט.\n",
    "</div>"
   ]
  },
  {
   "cell_type": "code",
   "execution_count": null,
   "metadata": {
    "id": "84m0dFTJi0jM"
   },
   "outputs": [],
   "source": [
    "f = factorial\n",
    "type(f)"
   ]
  },
  {
   "cell_type": "markdown",
   "metadata": {
    "id": "fOw1wQSKi0jN"
   },
   "source": [
    "<div style=\"direction:rtl\" dir=\"rtl\">פונקציה יכולה להחזיר ערכים מסוגים שונים במקרים שונים, למרות שלא מומלץ לעשות זאת. בנוסף, היא יכולה להחזיר מספר ערכים בבת אחת (כטאפל), ע\"י הפרדתם בפסיק.</div>"
   ]
  },
  {
   "cell_type": "markdown",
   "metadata": {
    "id": "4baouHdqi0jN"
   },
   "source": [
    "### <a name=\"list-comprehention\" /><div style=\"direction:rtl\" dir=\"rtl\">List Comprehention</div>\n",
    "<div style=\"direction:rtl\" dir=\"rtl\">\n",
    "לפעמים אנחנו רוצים ליצור רשימה מערכים שהגיעו מ- sequence כלשהו.\n",
    "</div>"
   ]
  },
  {
   "cell_type": "code",
   "execution_count": null,
   "metadata": {
    "id": "gVwd1au8i0jO"
   },
   "outputs": [],
   "source": [
    "[char for char in \"my name\"]"
   ]
  },
  {
   "cell_type": "code",
   "execution_count": null,
   "metadata": {
    "id": "CdsI6l3Ji0jP"
   },
   "outputs": [],
   "source": [
    "# Having a filtering condition\n",
    "[char for char in \"my name\" if char not in {'a', 'e', 'i', 'o', 'u'}]"
   ]
  },
  {
   "cell_type": "markdown",
   "metadata": {
    "id": "jjyIV_Esi0jQ"
   },
   "source": [
    "### <a name=\"zip-iterator\" /><div style=\"direction:rtl\" dir=\"rtl\">zip() iterator</div>\n",
    "<div style=\"direction:rtl\" dir=\"rtl\">\n",
    "לפעמים יש לנו מספר רשימות באותו האורך, ואנחנו רוצים לעבור עליהן במקביל.\n",
    "</div>"
   ]
  },
  {
   "cell_type": "code",
   "execution_count": null,
   "metadata": {
    "id": "Hv2BIJmki0jR"
   },
   "outputs": [],
   "source": [
    "heights = [110, 230, 150, 315]\n",
    "widths = [70, 65, 90, 87]\n",
    "depths = [50, 45, 76, 65]\n",
    "for h, w, d in zip(heights, widths, depths):\n",
    "    print('cubic metre (m^3):', h * w * d)"
   ]
  },
  {
   "cell_type": "markdown",
   "metadata": {
    "id": "uB87Irgfi0jT"
   },
   "source": [
    "#### <a name=\"zip-example\" /><div style=\"direction:rtl\" dir=\"rtl\">דוגמא מורכבת קצת יותר:</div>"
   ]
  },
  {
   "cell_type": "code",
   "execution_count": null,
   "metadata": {
    "id": "YWAaBoTgi0jU"
   },
   "outputs": [],
   "source": [
    "keys = range(1,5)\n",
    "values = [chr(i + ord(\"a\") - 1) for i in keys] # List comprehention\n",
    "keys, values"
   ]
  },
  {
   "cell_type": "markdown",
   "metadata": {
    "id": "nBj0uG2xi0jV"
   },
   "source": [
    "* ord - Given a string representing one Unicode character, ord returns an int representing the character\n",
    "* chr - the opposite of ord\n",
    "* Notice the possibility of creating a list in one line, this is called **list comprehention**"
   ]
  },
  {
   "cell_type": "code",
   "execution_count": null,
   "metadata": {
    "id": "bvY5cAPIi0jV"
   },
   "outputs": [],
   "source": [
    "list(zip(keys, values))"
   ]
  },
  {
   "cell_type": "code",
   "execution_count": null,
   "metadata": {
    "id": "wMDt92Ori0jW"
   },
   "outputs": [],
   "source": [
    "NumToLet = dict(list(zip(keys, values)))\n",
    "NumToLet"
   ]
  },
  {
   "cell_type": "markdown",
   "metadata": {
    "id": "vip_mhAEi0jX"
   },
   "source": [
    "### <a name=\"dict-comprehention\" /><div style=\"direction:rtl\" dir=\"rtl\">Dictionary Comprehention</div>\n",
    "<div style=\"direction:rtl\" dir=\"rtl\">\n",
    "בדומה ל- list comprehention, ניתן ליצור גם מילונים ע״י ביטוי דומה.\n",
    "</div>"
   ]
  },
  {
   "cell_type": "code",
   "execution_count": null,
   "metadata": {
    "id": "i7dQQA6Ui0jX"
   },
   "outputs": [],
   "source": [
    "NumToLet2 = {i+1: chr(ord(\"a\") + i) for i in range(5)}\n",
    "NumToLet2"
   ]
  },
  {
   "cell_type": "markdown",
   "metadata": {
    "id": "MesY9zAmi0jY"
   },
   "source": [
    "### <a name=\"classes\" /><div style=\"direction:rtl\" dir=\"rtl\">מחלקות / Classes</div>"
   ]
  },
  {
   "cell_type": "code",
   "execution_count": null,
   "metadata": {
    "id": "pl94blITi0jZ"
   },
   "outputs": [],
   "source": [
    "class Tree(object):\n",
    "    def __init__(self, data, children = ()):\n",
    "        self.data = data\n",
    "        self.children = children\n",
    "    def prettyprint(self, indent=\"\"):\n",
    "        print(indent + self.data)\n",
    "        for child in self.children:\n",
    "            child.prettyprint(indent + \" \")\n",
    "            \n",
    "t111 = Tree(\"111\")\n",
    "t112 = Tree(\"112\")\n",
    "t11 = Tree(\"11\", (t111, t112))\n",
    "t12 = Tree(\"12\")\n",
    "t1 = Tree(\"1\", (t11, t12))\n",
    "t1.prettyprint()"
   ]
  },
  {
   "cell_type": "markdown",
   "metadata": {
    "id": "FFcCqM8Wi0ja"
   },
   "source": [
    "<div style=\"direction:rtl\" dir=\"rtl\">\n",
    "<ul>\n",
    "<li> כדאי להוריש מחלקות חדשות מobject</li>\n",
    "<li> self הוא שם קונוונציה ל\"this\"</li>\n",
    "<li> ניתן להגדיר ערכים דיפולטיים לארגומטים של פונציה בעזרת שימוש ב'=' </li>\n",
    "<li> משתנים פנימיים במחלקה מוגדרים ברגע שמוצב לתוכם ערך. לפני כן המחלקה אינה מודעת לקיומם, ואין צורך \"להכריז\" עליהם במקום נוסף. </li>\n",
    "</ul>\n",
    "</div>"
   ]
  },
  {
   "cell_type": "markdown",
   "metadata": {
    "id": "tI1Vk7a8i0ja"
   },
   "source": [
    "### <a name=\"exceptions\" /><div style=\"direction:rtl\" dir=\"rtl\">חריגות / Exceptions</div>\n",
    "<div style=\"direction:rtl\" dir=\"rtl\">\n",
    "<ul>\n",
    "<li> מאפשר שליטה וטיפול בשגיאות</li>\n",
    "<li> זריקת חריגה ע\"י raise</li>\n",
    "<li> תפיסה וטיפול ע\"י try, except</li>\n",
    "</ul>\n",
    "</div>"
   ]
  },
  {
   "cell_type": "code",
   "execution_count": null,
   "metadata": {
    "id": "lLwu7lJ1i0ja"
   },
   "outputs": [],
   "source": [
    "while True:\n",
    "    try:\n",
    "        x = int(raw_input(\"Please enter a number: \"))\n",
    "        break\n",
    "    except ValueError:\n",
    "        print \"Oops!  That was no valid number.  Try again...\""
   ]
  },
  {
   "cell_type": "markdown",
   "metadata": {
    "id": "CrtOSCHfi0jb"
   },
   "source": [
    "### <a name=\"help-dir-functions\" /><div style=\"direction:rtl\" dir=\"rtl\">שימוש בפונק׳ התיעוד help, dir ב- interpreter</div>\n",
    "<div style=\"direction:rtl\" dir=\"rtl\">\n",
    "כשאנחנו משתמשים ב- interpreter כדי להתנסות בשפה, לפעמים נרצה ״לבקש״ מה- interpreter להציג לנו מה אנחנו יכולים לעשות עם אובייקט מסוים (אילו פעולות יש לו). לפעמים נרצה להציג את התיעוד של הפעולות האלו.\n",
    "</div>"
   ]
  },
  {
   "cell_type": "code",
   "execution_count": null,
   "metadata": {
    "id": "DxPv54_ti0jb"
   },
   "outputs": [],
   "source": [
    "# display all of the available methods of an object\n",
    "lst = [1,2,3]\n",
    "dir(lst)"
   ]
  },
  {
   "cell_type": "code",
   "execution_count": null,
   "metadata": {
    "id": "243UCh9li0jc"
   },
   "outputs": [],
   "source": [
    "# show the documentation of the class `str`.\n",
    "help(str)"
   ]
  },
  {
   "cell_type": "code",
   "execution_count": null,
   "metadata": {
    "id": "yn3K8OWEi0jd"
   },
   "outputs": [],
   "source": [
    "# show the documentation for a certain method of an object.\n",
    "s = 'aa'\n",
    "help(s.isnumeric)"
   ]
  },
  {
   "cell_type": "code",
   "execution_count": null,
   "metadata": {
    "id": "3IIpTiEQi0je"
   },
   "outputs": [],
   "source": [
    "# here is an example of how to properly insert\n",
    "# documentataion for your own functions.\n",
    "def my_func(num: int) -> int:\n",
    "    \"\"\"returns the given `num` plus 1.\"\"\"\n",
    "    return num + 1"
   ]
  },
  {
   "cell_type": "code",
   "execution_count": null,
   "metadata": {
    "id": "p9pMCT1Ii0je"
   },
   "outputs": [],
   "source": [
    "help(my_func)"
   ]
  },
  {
   "cell_type": "markdown",
   "metadata": {
    "id": "jnOoWXTsi0jf"
   },
   "source": [
    "### <a name=\"import-modules\" /><div style=\"direction:rtl\" dir=\"rtl\">ייבוא קוד ומודולים</div>\n",
    "\n",
    "<div style=\"direction:rtl\" dir=\"rtl\">\n",
    "כאשר פייתון מפענח קובץ קוד, הוא מריץ את שורות הקוד שהוא רואה, פרט לקוד הנמצא בתוך פונקציות. בפרט אנחנו נמצאים בבעיה כאשר נרצה להשתמש בקוד מקובץ אחד במהלך קובץ אחר. בזמן הimport כל קוד הנמצא מחוץ לפונקציה ירוץ, ובפרט גם שורות קוד מהקובץ שיובא.\n",
    "<br>\n",
    "<br>\n",
    "למזלנו, בתחילת הריצה הinterpreter דואג להגדיר מספר משתנים מיוחדים שיוכלו לעזור לנו. בפרט, מוגדר משתנה בשם __name__, המקבל את הערך \"__main__\" ברגע שהקובץ הנוכחי הוא הקובץ הראשי שהורץ.\n",
    "<br>\n",
    "<br>\n",
    "כעת נראה איך ניתן להשתמש בזה כדי לפתור את הבעיה:\n",
    "</div>\n",
    "<center>\n",
    "<img src=\"https://i.imgur.com/ny1jI7a.png\" alt=\"module_example_code.png\" />\n",
    "<img src=\"https://i.imgur.com/bZ84vhR.png\" alt=\"module_example_main.png\" />\n",
    "<img src=\"https://i.imgur.com/5gjsm60.png\" alt=\"module_example_run.png\" />\n",
    "</center>"
   ]
  },
  {
   "cell_type": "markdown",
   "metadata": {
    "id": "nzo-ID_3i0jf"
   },
   "source": [
    "## <a name=\"do-it-right\" /><div style=\"direction:rtl\" dir=\"rtl\">פייתון - איך לעשות את זה נכון</div>\n",
    "<div style=\"direction:rtl\" dir=\"rtl\">\n",
    "ראינו שבפייתון יש משתנים, תנאים, לולאות ופונקציות. עקרונית, אפשר לקחת תוכניות שכתבתם ב״מבוא למדעי המחשב״ בשפת c ולשכתב אותן כך שיתאימו לסינטקס של פייתון. לאחר דיבוג הקוד ירוץ כצפוי. לעיתים, יהיה אפשר לכתוב את אותה הפונקציונליות בדרך פשוטה יותר, קצרה יותר וקריאה יותר. נביא כאן מספר דוגמאות של קוד ארוך ולאחר מכן קוד קצר שעושים שניהם את אותו הדבר. \n",
    "</div>"
   ]
  },
  {
   "cell_type": "markdown",
   "metadata": {
    "id": "q4HJBRtui0jg"
   },
   "source": [
    "#### <a name=\"do-it-right-example1\" /><div style=\"direction:rtl\" dir=\"rtl\">איך לעשות את זה נכון - דוגמא 1 - מציאת חיתוך (ללא חזרות) בין רשימות</div>"
   ]
  },
  {
   "cell_type": "code",
   "execution_count": null,
   "metadata": {
    "id": "_-jbW9_-i0jg"
   },
   "outputs": [],
   "source": [
    "l1 = [1,2,3,4,5]\n",
    "l2 = [23,4,12,2]"
   ]
  },
  {
   "cell_type": "code",
   "execution_count": null,
   "metadata": {
    "id": "EgFMnhp6i0jh"
   },
   "outputs": [],
   "source": [
    "# Very bad\n",
    "intersect = []\n",
    "for item in l1:\n",
    "    if item in l2:\n",
    "        if item not in intersect:\n",
    "            intersect.append(item)\n",
    "print(intersect)"
   ]
  },
  {
   "cell_type": "code",
   "execution_count": null,
   "metadata": {
    "id": "y2qvd5i2i0jj"
   },
   "outputs": [],
   "source": [
    "# Good\n",
    "list(set(l1) & set(l2))"
   ]
  },
  {
   "cell_type": "markdown",
   "metadata": {
    "id": "UQ3qldE2i0jk"
   },
   "source": [
    "<div style=\"direction:rtl\" dir=\"rtl\">\n",
    "סבבה. אז עכשיו אנחנו מכירים את הפעולה `set intersect`. אבל, איך היינו אמורים למצוא את זה בעצמינו??\n",
    "חיפוש פשוט בגוגל!\n",
    "\"<a href=\"http://lmgtfy.com/?q=python+find+list+intersection\">python find list intersection</a>\"\n",
    "</div>"
   ]
  },
  {
   "cell_type": "markdown",
   "metadata": {
    "id": "_Bfpkyoki0jk"
   },
   "source": [
    "#### <a name=\"do-it-right-example2\" /><div style=\"direction:rtl\" dir=\"rtl\">איך לעשות את זה נכון - דוגמא 2 - list comprehension</div>"
   ]
  },
  {
   "cell_type": "code",
   "execution_count": null,
   "metadata": {
    "id": "-q14MdnMi0jk"
   },
   "outputs": [],
   "source": [
    "# Less preferable: loop with append\n",
    "cars = []\n",
    "for car in get_all_car_models_by_manufacturer_name('mazda'):\n",
    "    if car.engine_volume > 1800:\n",
    "        cars.append(car.model_name, car.year)"
   ]
  },
  {
   "cell_type": "code",
   "execution_count": null,
   "metadata": {
    "id": "N7I6Fuu6i0jl"
   },
   "outputs": [],
   "source": [
    "# Good: use list comprehension\n",
    "cars = [car.model_name, car.year\n",
    "        for car in get_all_car_models_by_manufacturer_name('mazda')\n",
    "        if car.engine_volume > 1800]"
   ]
  },
  {
   "cell_type": "markdown",
   "metadata": {
    "id": "GSBi9yn5i0jm"
   },
   "source": [
    "#### <a name=\"do-it-right-example3\" /><div style=\"direction:rtl\" dir=\"rtl\">איך לעשות את זה נכון - דוגמא 3 - counter, defaultdict</div>"
   ]
  },
  {
   "cell_type": "code",
   "execution_count": null,
   "metadata": {
    "id": "P_08U7Syi0jm"
   },
   "outputs": [],
   "source": [
    "colors = ['red', 'blue', 'red', 'green', 'blue', 'blue']"
   ]
  },
  {
   "cell_type": "code",
   "execution_count": null,
   "metadata": {
    "id": "yPV1fFW7i0jn"
   },
   "outputs": [],
   "source": [
    "# Bad\n",
    "occurances = dict()\n",
    "for item in colors:\n",
    "    if item not in occurances:\n",
    "        occurances[item] = 0\n",
    "    occurances[item] += 1\n",
    "occurances"
   ]
  },
  {
   "cell_type": "code",
   "execution_count": null,
   "metadata": {
    "id": "-fT5IHcxi0jn"
   },
   "outputs": [],
   "source": [
    "# Somewhat better\n",
    "from collections import defaultdict\n",
    "occurances = defaultdict(int)\n",
    "for item in colors:\n",
    "    occurances[item] += 1\n",
    "occurances"
   ]
  },
  {
   "cell_type": "code",
   "execution_count": null,
   "metadata": {
    "id": "3KzIcKygi0jo"
   },
   "outputs": [],
   "source": [
    "# Good: ask Google for the right way to do so!\n",
    "from collections import Counter\n",
    "Counter(colors)"
   ]
  },
  {
   "cell_type": "markdown",
   "metadata": {
    "id": "xXZjREFii0jr"
   },
   "source": [
    "<div style=\"direction:rtl\" dir=\"rtl\">\n",
    "סבבה. אז עכשיו אנחנו מכירים את `Counter`. אבל, איך היינו אמורים למצוא את זה בעצמינו??\n",
    "חיפוש פשוט בגוגל!\n",
    "\"<a href=\"http://lmgtfy.com/?q=python+make+occurrences+dictionary+from+a+list\">python make occurrences dictionary from a list</a>\"\n",
    "</div>"
   ]
  },
  {
   "cell_type": "markdown",
   "metadata": {
    "id": "f2LZKZXOi0jr"
   },
   "source": [
    "#### <a name=\"do-it-right-example4\" /><div style=\"direction:rtl\" dir=\"rtl\">איך לעשות את זה נכון - דוגמא 4 - enumerate</div>"
   ]
  },
  {
   "cell_type": "code",
   "execution_count": null,
   "metadata": {
    "id": "ghzewPgti0js"
   },
   "outputs": [],
   "source": [
    "friends = ['Karishma Mccoy', 'Luisa Frank', 'Samual Dale',\n",
    "           'Kaitlan Gutierrez', 'Lula Kaiser', 'Teddy Gilmore',\n",
    "           'Cecil Bailey', 'Rhonda Macgregor', 'Zakaria Kennedy',\n",
    "           'Halle Jordan']"
   ]
  },
  {
   "cell_type": "code",
   "execution_count": null,
   "metadata": {
    "id": "vj68x8kmi0jv"
   },
   "outputs": [],
   "source": [
    "# Bad\n",
    "idx = 0\n",
    "for friend in friends:\n",
    "    # do something with idx, friend\n",
    "    idx += 1"
   ]
  },
  {
   "cell_type": "code",
   "execution_count": null,
   "metadata": {
    "id": "XimdcOmOi0jw"
   },
   "outputs": [],
   "source": [
    "# Good - use `enumerate()`\n",
    "for idx, friend in enumerate(friends):\n",
    "    # do something with idx, friend\n",
    "    pass"
   ]
  },
  {
   "cell_type": "markdown",
   "metadata": {
    "id": "g9MPJx0yi0jy"
   },
   "source": [
    "### <a name=\"adv-assign-semantics\" /><div style=\"direction:rtl\" dir=\"rtl\">חלק מתקדם: סמנטיקה של השמה של ערך במשתנה</div>\n",
    "<div style=\"direction:rtl\" dir=\"rtl\">\n",
    "כשאנחנו ניגשים ללמוד שפת תכנות שחדשה לנו, חשוב להבין מה קורה כשמבצעים השמה של ערך למשתנה. כאשר ביצעתי את ההשמה x=y, ואז שיניתי את y, האם גם x ישתנה, או שלא? בפייתון כפי שנראה התשובה לשאלה זו תלויה בטיפוס. \n",
    "</div>"
   ]
  },
  {
   "cell_type": "code",
   "execution_count": null,
   "metadata": {
    "id": "HfDuvJDZi0jy"
   },
   "outputs": [],
   "source": [
    "# example 1: assignment of immutable types\n",
    "x = 3 # integer is immutable (we'll get back to it later)\n",
    "y = x\n",
    "print(x)\n",
    "print(y)\n",
    "\n",
    "print()\n",
    "x += 1\n",
    "print(x)\n",
    "print(y) # as expected, still `3`"
   ]
  },
  {
   "cell_type": "code",
   "execution_count": null,
   "metadata": {
    "id": "K8S38LCzi0jz"
   },
   "outputs": [],
   "source": [
    "# example 2: assignment of mutable types\n",
    "x = [3] # list is mutable\n",
    "y = x\n",
    "print(x)\n",
    "print(y)\n",
    "\n",
    "print()\n",
    "x += [1] # lists concatination\n",
    "print(x)\n",
    "print(y) # CHANGED! `[3, 1]` like `x` (and not just `[3]` as with example 1)"
   ]
  },
  {
   "cell_type": "markdown",
   "metadata": {
    "id": "PXnL96aui0j0"
   },
   "source": [
    "<div style=\"direction:rtl\" dir=\"rtl\">\n",
    "מאחורי הקלעים, בפייתון, כל ערך הוא אובייקט. אפשר לחשוב על כל ערך כאילו הוא שמור בתור קופסא בזיכרון. הקופסא הזאת היא האובייקט שבו כתוב הערך. כל משתנה הוא למעשה מצביע אובייקט. הפונק׳ `id()` מאפשרת לקבל כתובת (בזיכרון) של אובייקט. גם ערכים מטיפוסים פרימיטיביים נשמרים כאובייקטים בזיכרון. בדוגמא מטה אנחנו מדגימים איך ערך ליטרלי מסוג מספר שלם הוא למעשה אובייקט. בנוסף, לכל מופע של אותו הערך הליטרלי נוצר אובייקט ייחודי.\n",
    "</div>"
   ]
  },
  {
   "cell_type": "code",
   "execution_count": null,
   "metadata": {
    "id": "G_V5D00Ui0j0"
   },
   "outputs": [],
   "source": [
    "# Create a new object of type integer with the value `333`,\n",
    "# and set the variable `x` to POINT to this new object.\n",
    "x = 333\n",
    "print('attempt 1:', id(x))\n",
    "\n",
    "x = 5\n",
    "print('attempt 2:', id(x))\n",
    "\n",
    "# Notice: not the same id as the upper `333`.\n",
    "x = 333\n",
    "print('attempt 3:', id(x))\n",
    "\n",
    "# Surprisingly, integer increment operator does not modify\n",
    "# the value of the object. Instead, it creates a new object\n",
    "# storing the new incremented value, and stores the address\n",
    "# of that new object in the variable `x`.\n",
    "x += 1\n",
    "print('attempt 4:', id(x))\n",
    "\n",
    "y = x\n",
    "print('attempt 5:', id(y))\n",
    "\n",
    "# Create multiple new objects of type integer with the value\n",
    "# `333` and get their ids. Notice how every time a new object\n",
    "# is created.\n",
    "print('attempt 6:', id(333))\n",
    "print('attempt 7:', id(333))\n",
    "print('attempt 8:', id(333))"
   ]
  },
  {
   "cell_type": "markdown",
   "metadata": {
    "id": "4sFLigB0i0j2"
   },
   "source": [
    "<div style=\"direction:rtl\" dir=\"rtl\">\n",
    "אז מה immutable ומה לא? בפייתון, כל הטיפוסים הפרימיטיביים (int, float, str) הם immutable. נראה עתה שמחרוזת היא טיפוס immutable. רגע, אבל ראינו שאפשר ״להוסיף״ למחרוזת המשך עם האופרטור +=. למעשה האופרטור מייצר מחרוזת חדשה, ולא משנה את המחרוזת הקיימת. כך גם עבור כל הטיפוסים הפרימיטיביים (כולל int ו- float).\n",
    "</div>"
   ]
  },
  {
   "cell_type": "code",
   "execution_count": null,
   "metadata": {
    "id": "mQsMJZmZi0j2"
   },
   "outputs": [],
   "source": [
    "x = \"aa\"\n",
    "y = x\n",
    "print(id(x))\n",
    "print(id(y))\n",
    "\n",
    "print()\n",
    "x += \"bb\"\n",
    "print(id(x)) # new id.\n",
    "print(id(y)) # still the address of the original x.\n",
    "\n",
    "print()\n",
    "print(y) # still the original `aa`."
   ]
  },
  {
   "cell_type": "markdown",
   "metadata": {
    "id": "pNN_MWnWi0j3"
   },
   "source": [
    "### <a name=\"tips\" /><div style=\"direction:rtl\" dir=\"rtl\">טיפים נוספים</div>\n",
    "\n",
    "<div style=\"direction:rtl\" dir=\"rtl\">\n",
    "<ul>\n",
    "<li> מומלץ לעבוד עם IDE כמו Eclipse או Pycharm </li>\n",
    "<li> לבדיקות קצרות - השתמשו ב interpreter </li>\n",
    "<li> השתמשו ב list/dict comprehension לצמצום הקוד שלכם </li>\n",
    "<li> נצלו את מבני הנתונים של פייתון, במיוחד dictionaries </li>\n",
    "<li> אם אתם מרגישים שכתבתם קוד מסורבל, הריצו חיפוש בגוגל איך עושים זאת נכון בפייתון </li>\n",
    "<li> היעזרו ב python manual המגיע עם ההתקנה של פייתון </li>\n",
    "</ul>\n",
    "</div>\n",
    "\n",
    "### Practice - Python hands on\n",
    "<div style=\"direction:rtl\" dir=\"rtl\">\n",
    "אמנם טעמנו קצת מהשפה, אך מומלץ מאוד לקרוא את <a href=\"https://docs.python.org/3.6/tutorial\">המדריך הרשמי של פייתון</a>.\n",
    "<br>\n",
    "נושאים חשובים נוספים:\n",
    "</div>\n",
    "- Exceptions, Modules & Packages, I\\O with Files, variable scope, standard libs, ...\n",
    "\n",
    "<div style=\"direction:rtl\" dir=\"rtl\">\n",
    "\n",
    "</div>\n",
    "\n",
    "## <center><div style=\"direction:rtl\" dir=\"rtl\"> בהצלחה!! </div></center>\n",
    "\n"
   ]
  },
  {
   "cell_type": "code",
   "execution_count": null,
   "metadata": {
    "id": "VOSWEjXFi0j4"
   },
   "outputs": [],
   "source": []
  }
 ],
 "metadata": {
  "anaconda-cloud": {},
  "colab": {
   "name": "Tutorial_1_Jupyter_Notebook.ipynb",
   "provenance": []
  },
  "kernelspec": {
   "display_name": "Python 3",
   "language": "python",
   "name": "python3"
  },
  "language_info": {
   "codemirror_mode": {
    "name": "ipython",
    "version": 3
   },
   "file_extension": ".py",
   "mimetype": "text/x-python",
   "name": "python",
   "nbconvert_exporter": "python",
   "pygments_lexer": "ipython3",
   "version": "3.8.8"
  }
 },
 "nbformat": 4,
 "nbformat_minor": 1
}
