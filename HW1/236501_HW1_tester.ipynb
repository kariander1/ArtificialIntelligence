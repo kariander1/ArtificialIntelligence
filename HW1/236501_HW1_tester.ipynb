{
 "cells": [
  {
   "cell_type": "markdown",
   "metadata": {
    "id": "yGcr2FmGcV_L"
   },
   "source": [
    "# **Assignment 1 - Tester**\n",
    "\n",
    "\n",
    "---"
   ]
  },
  {
   "cell_type": "code",
   "execution_count": 21,
   "metadata": {
    "id": "3hqCk_CZcV_Q"
   },
   "outputs": [],
   "source": [
    "# Packages needed for this assignment\n",
    "import gym\n",
    "import time\n",
    "from IPython.display import clear_output # Used to clear the ouput of a Jupyter cell.\n",
    "from IPython import get_ipython"
   ]
  },
  {
   "cell_type": "code",
   "execution_count": 22,
   "metadata": {
    "pycharm": {
     "name": "#%%\n"
    }
   },
   "outputs": [],
   "source": [
    "def print_frames_tester(frames,dt = 0.1):\n",
    "    for i, frame in enumerate(frames):\n",
    "        clear_output(wait=True)\n",
    "        print(frame['frame'])\n",
    "        print(f\"Timestep: {i + 1}\")\n",
    "        print(f\"State: {frame['state']}\")\n",
    "        print(f\"Action: {frame['action']}\")\n",
    "        print(f\"Reward: {frame['reward']}\")\n",
    "        time.sleep(dt)"
   ]
  },
  {
   "cell_type": "code",
   "execution_count": 23,
   "metadata": {
    "colab": {
     "base_uri": "https://localhost:8080/"
    },
    "id": "1XtQ47pscV_V",
    "outputId": "39c8c3e1-40ea-4fe7-ca63-34f016e836bd",
    "pycharm": {
     "name": "#%%\n"
    }
   },
   "outputs": [
    {
     "name": "stdout",
     "output_type": "stream",
     "text": [
      "Initial state: 386\n",
      "+---------+\n",
      "|R: | : :\u001B[34;1mG\u001B[0m|\n",
      "| : | : : |\n",
      "| : : : : |\n",
      "| | : | :\u001B[43m \u001B[0m|\n",
      "|\u001B[35mY\u001B[0m| : |B: |\n",
      "+---------+\n",
      "\n",
      "+---------+\n",
      "|R: | : :G|\n",
      "| : | : : |\n",
      "|\u001B[43m \u001B[0m: : : : |\n",
      "| | : | : |\n",
      "|\u001B[35mY\u001B[0m| : |\u001B[34;1mB\u001B[0m: |\n",
      "+---------+\n",
      "\n",
      "Action Space Discrete(6)\n",
      "State Space Discrete(500)\n",
      "+---------+\n",
      "|R: | : :G|\n",
      "|\u001B[43m \u001B[0m: | : : |\n",
      "| : : : : |\n",
      "| | : | : |\n",
      "|\u001B[35mY\u001B[0m| : |\u001B[34;1mB\u001B[0m: |\n",
      "+---------+\n",
      "  (North)\n",
      "New state: 114\n",
      "Reward: -1\n",
      "Done: False\n",
      "Info: {'prob': 1.0}\n"
     ]
    }
   ],
   "source": [
    "env = gym.make('Taxi-v3').env\n",
    "env.reset()\n",
    "%run  236501_HW1.ipynb"
   ]
  },
  {
   "cell_type": "code",
   "execution_count": 28,
   "metadata": {
    "pycharm": {
     "name": "#%%\n"
    }
   },
   "outputs": [],
   "source": [
    "def test_case(alg_name,fnc_handle,env_state,**kwargs):\n",
    "    clear_output(wait=True)\n",
    "    print(\"Testing {} in state: {} With additional key-word args: {}\".format(alg_name,env_state,kwargs))\n",
    "    env.unwrapped.s = env_state\n",
    "    env.render()\n",
    "    print(\"Running our notebook...\")\n",
    "    print(\"===============================================================================================\")\n",
    "    %run  236501_HW1.ipynb\n",
    "    env.unwrapped.s = env_state\n",
    "    frames_1, reward_1 = fnc_handle(env.s,**kwargs)\n",
    "    print(\"Running your notebook...\")\n",
    "    print(\"===============================================================================================\")\n",
    "    %run  236501_HW1.ipynb\n",
    "    env.unwrapped.s = env_state\n",
    "    frames_2, reward_2 = fnc_handle(env.s,**kwargs)\n",
    "    assert reward_1 == reward_2 , \"Reward 1 = {} Reward 2 = {}\".format(reward_1,reward_2)\n",
    "    pairs = zip(frames_1, frames_2)\n",
    "    if not all(x == y for x, y in pairs):\n",
    "        print(\"Our frames: {}\\n\\n\".format(frames_1))\n",
    "        print(\"Your frames: {}\".format(frames_2))\n",
    "        raise Exception(\"Error: frames not same in state:{}\".format(env_state))"
   ]
  },
  {
   "cell_type": "code",
   "execution_count": 29,
   "metadata": {
    "pycharm": {
     "name": "#%%\n"
    }
   },
   "outputs": [
    {
     "name": "stdout",
     "output_type": "stream",
     "text": [
      "Testing bfs in state: 0 With additional key-word args: {}\n",
      "+---------+\n",
      "|\u001B[35m\u001B[34;1m\u001B[43mR\u001B[0m\u001B[0m\u001B[0m: | : :G|\n",
      "| : | : : |\n",
      "| : : : : |\n",
      "| | : | : |\n",
      "|Y| : |B: |\n",
      "+---------+\n",
      "  (Dropoff)\n",
      "Running our notebook...\n",
      "===============================================================================================\n",
      "Initial state: 386\n",
      "+---------+\n",
      "|R: | : :\u001B[34;1mG\u001B[0m|\n",
      "| : | : : |\n",
      "| : : : : |\n",
      "| | : | :\u001B[43m \u001B[0m|\n",
      "|\u001B[35mY\u001B[0m| : |B: |\n",
      "+---------+\n",
      "\n",
      "+---------+\n",
      "|R: | : :G|\n",
      "| : | : : |\n",
      "|\u001B[43m \u001B[0m: : : : |\n",
      "| | : | : |\n",
      "|\u001B[35mY\u001B[0m| : |\u001B[34;1mB\u001B[0m: |\n",
      "+---------+\n",
      "\n",
      "Action Space Discrete(6)\n",
      "State Space Discrete(500)\n",
      "+---------+\n",
      "|R: | : :G|\n",
      "|\u001B[43m \u001B[0m: | : : |\n",
      "| : : : : |\n",
      "| | : | : |\n",
      "|\u001B[35mY\u001B[0m| : |\u001B[34;1mB\u001B[0m: |\n",
      "+---------+\n",
      "  (North)\n",
      "New state: 114\n",
      "Reward: -1\n",
      "Done: False\n",
      "Info: {'prob': 1.0}\n",
      "Running your notebook...\n",
      "===============================================================================================\n",
      "Initial state: 28\n"
     ]
    },
    {
     "ename": "AssertionError",
     "evalue": "Reward 1 = 20 Reward 2 = 0",
     "output_type": "error",
     "traceback": [
      "\u001B[1;31m---------------------------------------------------------------------------\u001B[0m",
      "\u001B[1;31mAssertionError\u001B[0m                            Traceback (most recent call last)",
      "\u001B[1;32m<ipython-input-29-ef6d1bee8f5e>\u001B[0m in \u001B[0;36m<module>\u001B[1;34m\u001B[0m\n\u001B[0;32m      3\u001B[0m \u001B[1;32mfor\u001B[0m \u001B[0mkey\u001B[0m \u001B[1;32min\u001B[0m \u001B[0mfuncs_to_test\u001B[0m\u001B[1;33m:\u001B[0m\u001B[1;33m\u001B[0m\u001B[1;33m\u001B[0m\u001B[0m\n\u001B[0;32m      4\u001B[0m     \u001B[1;32mfor\u001B[0m \u001B[0menv_state\u001B[0m \u001B[1;32min\u001B[0m \u001B[0mrange\u001B[0m\u001B[1;33m(\u001B[0m\u001B[1;36m0\u001B[0m\u001B[1;33m,\u001B[0m\u001B[1;36m500\u001B[0m\u001B[1;33m)\u001B[0m\u001B[1;33m:\u001B[0m\u001B[1;33m\u001B[0m\u001B[1;33m\u001B[0m\u001B[0m\n\u001B[1;32m----> 5\u001B[1;33m         \u001B[0mtest_case\u001B[0m\u001B[1;33m(\u001B[0m\u001B[0mkey\u001B[0m\u001B[1;33m,\u001B[0m\u001B[0mfuncs_to_test\u001B[0m\u001B[1;33m[\u001B[0m\u001B[0mkey\u001B[0m\u001B[1;33m]\u001B[0m\u001B[1;33m,\u001B[0m\u001B[0menv_state\u001B[0m\u001B[1;33m)\u001B[0m\u001B[1;33m\u001B[0m\u001B[1;33m\u001B[0m\u001B[0m\n\u001B[0m",
      "\u001B[1;32m<ipython-input-28-54e801b2c158>\u001B[0m in \u001B[0;36mtest_case\u001B[1;34m(alg_name, fnc_handle, env_state, **kwargs)\u001B[0m\n\u001B[0;32m     14\u001B[0m     \u001B[0menv\u001B[0m\u001B[1;33m.\u001B[0m\u001B[0munwrapped\u001B[0m\u001B[1;33m.\u001B[0m\u001B[0ms\u001B[0m \u001B[1;33m=\u001B[0m \u001B[0menv_state\u001B[0m\u001B[1;33m\u001B[0m\u001B[1;33m\u001B[0m\u001B[0m\n\u001B[0;32m     15\u001B[0m     \u001B[0mframes_2\u001B[0m\u001B[1;33m,\u001B[0m \u001B[0mreward_2\u001B[0m \u001B[1;33m=\u001B[0m \u001B[0mfnc_handle\u001B[0m\u001B[1;33m(\u001B[0m\u001B[0menv\u001B[0m\u001B[1;33m.\u001B[0m\u001B[0ms\u001B[0m\u001B[1;33m,\u001B[0m\u001B[1;33m**\u001B[0m\u001B[0mkwargs\u001B[0m\u001B[1;33m)\u001B[0m\u001B[1;33m\u001B[0m\u001B[1;33m\u001B[0m\u001B[0m\n\u001B[1;32m---> 16\u001B[1;33m     \u001B[1;32massert\u001B[0m \u001B[0mreward_1\u001B[0m \u001B[1;33m==\u001B[0m \u001B[0mreward_2\u001B[0m \u001B[1;33m,\u001B[0m \u001B[1;34m\"Reward 1 = {} Reward 2 = {}\"\u001B[0m\u001B[1;33m.\u001B[0m\u001B[0mformat\u001B[0m\u001B[1;33m(\u001B[0m\u001B[0mreward_1\u001B[0m\u001B[1;33m,\u001B[0m\u001B[0mreward_2\u001B[0m\u001B[1;33m)\u001B[0m\u001B[1;33m\u001B[0m\u001B[1;33m\u001B[0m\u001B[0m\n\u001B[0m\u001B[0;32m     17\u001B[0m     \u001B[0mpairs\u001B[0m \u001B[1;33m=\u001B[0m \u001B[0mzip\u001B[0m\u001B[1;33m(\u001B[0m\u001B[0mframes_1\u001B[0m\u001B[1;33m,\u001B[0m \u001B[0mframes_2\u001B[0m\u001B[1;33m)\u001B[0m\u001B[1;33m\u001B[0m\u001B[1;33m\u001B[0m\u001B[0m\n\u001B[0;32m     18\u001B[0m     \u001B[1;32mif\u001B[0m \u001B[1;32mnot\u001B[0m \u001B[0mall\u001B[0m\u001B[1;33m(\u001B[0m\u001B[0mx\u001B[0m \u001B[1;33m==\u001B[0m \u001B[0my\u001B[0m \u001B[1;32mfor\u001B[0m \u001B[0mx\u001B[0m\u001B[1;33m,\u001B[0m \u001B[0my\u001B[0m \u001B[1;32min\u001B[0m \u001B[0mpairs\u001B[0m\u001B[1;33m)\u001B[0m\u001B[1;33m:\u001B[0m\u001B[1;33m\u001B[0m\u001B[1;33m\u001B[0m\u001B[0m\n",
      "\u001B[1;31mAssertionError\u001B[0m: Reward 1 = 20 Reward 2 = 0"
     ]
    }
   ],
   "source": [
    "funcs_to_test = {'bfs':bfs,'dfs':dfs}\n",
    "\n",
    "for key in funcs_to_test:    \n",
    "    for env_state in range(0,500):\n",
    "        test_case(key,funcs_to_test[key],env_state)"
   ]
  },
  {
   "cell_type": "code",
   "execution_count": 15,
   "metadata": {},
   "outputs": [
    {
     "ename": "NameError",
     "evalue": "name 'frames_1' is not defined",
     "output_type": "error",
     "traceback": [
      "\u001B[1;31m---------------------------------------------------------------------------\u001B[0m",
      "\u001B[1;31mNameError\u001B[0m                                 Traceback (most recent call last)",
      "\u001B[1;32m<ipython-input-15-dc008de24eae>\u001B[0m in \u001B[0;36m<module>\u001B[1;34m\u001B[0m\n\u001B[0;32m      1\u001B[0m \u001B[1;31m# Run this if an error occurred\u001B[0m\u001B[1;33m\u001B[0m\u001B[1;33m\u001B[0m\u001B[1;33m\u001B[0m\u001B[0m\n\u001B[1;32m----> 2\u001B[1;33m \u001B[0mprint_frames_tester\u001B[0m\u001B[1;33m(\u001B[0m\u001B[0mframes_1\u001B[0m\u001B[1;33m)\u001B[0m\u001B[1;33m\u001B[0m\u001B[1;33m\u001B[0m\u001B[0m\n\u001B[0m\u001B[0;32m      3\u001B[0m \u001B[0mprint_frames_tester\u001B[0m\u001B[1;33m(\u001B[0m\u001B[0mframes_2\u001B[0m\u001B[1;33m)\u001B[0m\u001B[1;33m\u001B[0m\u001B[1;33m\u001B[0m\u001B[0m\n",
      "\u001B[1;31mNameError\u001B[0m: name 'frames_1' is not defined"
     ]
    }
   ],
   "source": [
    "# Run this if an error occurred\n",
    "# print_frames_tester(frames_1)\n",
    "# print_frames_tester(frames_2)"
   ]
  },
  {
   "cell_type": "code",
   "execution_count": null,
   "metadata": {
    "pycharm": {
     "name": "#%%\n"
    }
   },
   "outputs": [],
   "source": [
    "# Test ID_DFS\n",
    "for max_depth in range(0,16):\n",
    "    for env_state in range(0,500):\n",
    "            test_case(alg_name = 'id dfs',fnc_handle = id_dfs,env_state = env_state,depth=max_depth)"
   ]
  },
  {
   "cell_type": "code",
   "execution_count": 19,
   "metadata": {},
   "outputs": [],
   "source": [
    "def null_h_test(state):\n",
    "    # Return zero for each state\n",
    "    return 0\n",
    "\n",
    "def manhattan_dist_test(a, b):\n",
    "    # Calculate MD for any vectors\n",
    "    return sum(abs(val1-val2) for val1, val2 in zip(a,b))\n",
    "\n",
    "\n",
    "def chosen_h_test(state):\n",
    "    # Fetch from environment current locations\n",
    "    taxi_row, taxi_col, pass_idx, dest_idx = env.decode(state)\n",
    "    # Create vector of taxi loc\n",
    "    taxi_loc = (taxi_row, taxi_col)\n",
    "    dest_loc = env.locs[dest_idx]\n",
    "    # Passenger is on board taxi if idx == 4\n",
    "    pass_loc = taxi_loc if pass_idx == 4 else env.locs[pass_idx]\n",
    "    # Return sum of MD\n",
    "    return manhattan_dist_test(taxi_loc, pass_loc) + manhattan_dist_test(pass_loc, dest_loc)\n",
    "\n",
    "def admissible_h_test(state):\n",
    "  return chosen_h_test(state)\n",
    "\n",
    "def non_admissible_h_test(state):\n",
    "  return chosen_h_test(state)*1.5\n"
   ]
  },
  {
   "cell_type": "code",
   "execution_count": null,
   "metadata": {
    "pycharm": {
     "name": "#%%\n"
    }
   },
   "outputs": [],
   "source": [
    "# Test weighted_a_star\n",
    "heuristics = [null_h_test,chosen_h_test]\n",
    "# TODO - export heuristics functions to here\n",
    "for h in heuristics:\n",
    "    for weight_ten in range(0,11):\n",
    "        for env_state in range(0,500):\n",
    "                test_case(alg_name = 'weighted A star',fnc_handle = weighted_a_star,env_state = env_state,weight=weight_ten/10,heuristic_function = h)"
   ]
  },
  {
   "cell_type": "code",
   "execution_count": null,
   "metadata": {
    "pycharm": {
     "name": "#%%\n"
    }
   },
   "outputs": [],
   "source": [
    "# Test weighted_a_star\n",
    "heuristics = [admissible_h_test,non_admissible_h_test]\n",
    "# TODO - export heuristics functions to here\n",
    "for h in heuristics:\n",
    "    for eps in range(0,11):\n",
    "        for weight_ten in range(0,11):\n",
    "            for env_state in range(0,500):\n",
    "                    test_case(alg_name = 'a_star_epsilon',fnc_handle = a_star_epsilon,env_state = env_state,weight=weight_ten/10,heuristic_function = h,epsilon=eps)"
   ]
  }
 ],
 "metadata": {
  "colab": {
   "collapsed_sections": [
    "90ucz2eIcV_S"
   ],
   "name": "236501_HW1 ipynb",
   "provenance": []
  },
  "kernelspec": {
   "display_name": "Python 3",
   "language": "python",
   "name": "python3"
  },
  "language_info": {
   "codemirror_mode": {
    "name": "ipython",
    "version": 3
   },
   "file_extension": ".py",
   "mimetype": "text/x-python",
   "name": "python",
   "nbconvert_exporter": "python",
   "pygments_lexer": "ipython3",
   "version": "3.8.8"
  }
 },
 "nbformat": 4,
 "nbformat_minor": 4
}