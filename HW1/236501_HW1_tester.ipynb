{
 "cells": [
  {
   "cell_type": "markdown",
   "metadata": {
    "id": "yGcr2FmGcV_L"
   },
   "source": [
    "# **Assignment 1 - Tester**\n",
    "\n",
    "\n",
    "---\n",
    "\n",
    "\n",
    "\n",
    "\n",
    "\n"
   ]
  },
  {
   "cell_type": "code",
   "execution_count": 25,
   "metadata": {
    "id": "3hqCk_CZcV_Q"
   },
   "outputs": [],
   "source": [
    "# Packages needed for this assignment\n",
    "import gym\n",
    "import time\n",
    "from IPython.display import clear_output # Used to clear the ouput of a Jupyter cell.\n",
    "from IPython import get_ipython"
   ]
  },
  {
   "cell_type": "code",
   "execution_count": 26,
   "metadata": {
    "pycharm": {
     "name": "#%%\n"
    }
   },
   "outputs": [],
   "source": [
    "def print_frames(frames,dt = 0.1):\n",
    "    for i, frame in enumerate(frames):\n",
    "        clear_output(wait=True)\n",
    "        print(frame['frame'])\n",
    "        print(f\"Timestep: {i + 1}\")\n",
    "        print(f\"State: {frame['state']}\")\n",
    "        print(f\"Action: {frame['action']}\")\n",
    "        print(f\"Reward: {frame['reward']}\")\n",
    "        time.sleep(dt)"
   ]
  },
  {
   "cell_type": "code",
   "execution_count": 42,
   "metadata": {
    "colab": {
     "base_uri": "https://localhost:8080/"
    },
    "id": "1XtQ47pscV_V",
    "outputId": "39c8c3e1-40ea-4fe7-ca63-34f016e836bd",
    "pycharm": {
     "name": "#%%\n"
    }
   },
   "outputs": [
    {
     "name": "stdout",
     "output_type": "stream",
     "text": [
      "Testing bfs in state: 499\n",
      "+---------+\n",
      "|R: | : :G|\n",
      "| : | : : |\n",
      "| : : : : |\n",
      "| | : | : |\n",
      "|Y| : |\u001B[35mB\u001B[0m:\u001B[42m_\u001B[0m|\n",
      "+---------+\n",
      "  (Dropoff)\n",
      "Running our notebook...\n",
      "===============================================================================================\n",
      "Initial state: 386\n",
      "+---------+\n",
      "|R: | : :\u001B[34;1mG\u001B[0m|\n",
      "| : | : : |\n",
      "| : : : : |\n",
      "| | : | :\u001B[43m \u001B[0m|\n",
      "|\u001B[35mY\u001B[0m| : |B: |\n",
      "+---------+\n",
      "\n",
      "+---------+\n",
      "|R: | : :G|\n",
      "| : | : : |\n",
      "|\u001B[43m \u001B[0m: : : : |\n",
      "| | : | : |\n",
      "|\u001B[35mY\u001B[0m| : |\u001B[34;1mB\u001B[0m: |\n",
      "+---------+\n",
      "\n",
      "Action Space Discrete(6)\n",
      "State Space Discrete(500)\n",
      "+---------+\n",
      "|R: | : :G|\n",
      "|\u001B[43m \u001B[0m: | : : |\n",
      "| : : : : |\n",
      "| | : | : |\n",
      "|\u001B[35mY\u001B[0m| : |\u001B[34;1mB\u001B[0m: |\n",
      "+---------+\n",
      "  (North)\n",
      "New state: 114\n",
      "Reward: -1\n",
      "Done: False\n",
      "Info: {'prob': 1.0}\n",
      "Reward incurred: -1\n",
      "Running your notebook...\n",
      "===============================================================================================\n",
      "Initial state: 386\n",
      "+---------+\n",
      "|R: | : :\u001B[34;1mG\u001B[0m|\n",
      "| : | : : |\n",
      "| : : : : |\n",
      "| | : | :\u001B[43m \u001B[0m|\n",
      "|\u001B[35mY\u001B[0m| : |B: |\n",
      "+---------+\n",
      "\n",
      "+---------+\n",
      "|R: | : :G|\n",
      "| : | : : |\n",
      "|\u001B[43m \u001B[0m: : : : |\n",
      "| | : | : |\n",
      "|\u001B[35mY\u001B[0m| : |\u001B[34;1mB\u001B[0m: |\n",
      "+---------+\n",
      "\n",
      "Action Space Discrete(6)\n",
      "State Space Discrete(500)\n",
      "+---------+\n",
      "|R: | : :G|\n",
      "|\u001B[43m \u001B[0m: | : : |\n",
      "| : : : : |\n",
      "| | : | : |\n",
      "|\u001B[35mY\u001B[0m| : |\u001B[34;1mB\u001B[0m: |\n",
      "+---------+\n",
      "  (North)\n",
      "New state: 114\n",
      "Reward: -1\n",
      "Done: False\n",
      "Info: {'prob': 1.0}\n",
      "Reward incurred: -1\n"
     ]
    }
   ],
   "source": [
    "env = gym.make('Taxi-v3').env\n",
    "env.reset()\n",
    "\n",
    "funcs_to_test = {'bfs':bfs,'dfs':dfs}\n",
    "\n",
    "for key in funcs_to_test:    \n",
    "    for env_state in range(0,500):\n",
    "        clear_output(wait=True)\n",
    "        print(\"Testing {} in state: {}\".format(func,env_state))\n",
    "        env.unwrapped.s = env_state\n",
    "        env.render()\n",
    "        print(\"Running our notebook...\")\n",
    "        print(\"===============================================================================================\")\n",
    "        %run  236501_HW1.ipynb\n",
    "        env.unwrapped.s = env_state\n",
    "        frames_1, reward_1 = funcs_to_test[key](env.s)\n",
    "        print(\"Running your notebook...\")\n",
    "        print(\"===============================================================================================\")\n",
    "        %run  236501_HW1.ipynb\n",
    "        env.unwrapped.s = env_state\n",
    "        frames_2, reward_2 = funcs_to_test[key](env.s)\n",
    "        assert reward_1 == reward_2\n",
    "        pairs = zip(frames_1, frames_2)\n",
    "        if not all(x == y for x, y in pairs):\n",
    "            print(\"Our frames: {}\\n\\n\".format(frames_1))\n",
    "            print(\"Your frames: {}\".format(frames_2))\n",
    "            raise Exception(\"Error: frames not same in state:{}\".format(env_state))"
   ]
  },
  {
   "cell_type": "code",
   "execution_count": 45,
   "metadata": {},
   "outputs": [
    {
     "name": "stdout",
     "output_type": "stream",
     "text": [
      "+---------+\n",
      "|R: | : :G|\n",
      "| : | : : |\n",
      "| : : : : |\n",
      "| | : | : |\n",
      "|Y| : |\u001B[35m\u001B[34;1m\u001B[43mB\u001B[0m\u001B[0m\u001B[0m: |\n",
      "+---------+\n",
      "  (Dropoff)\n",
      "\n",
      "Timestep: 11\n",
      "State: 475\n",
      "Action: 5\n",
      "Reward: 20\n"
     ]
    }
   ],
   "source": [
    "# Run this if an error occured\n",
    "print_frames(frames_1)\n",
    "print_frames(frames_2)"
   ]
  }
 ],
 "metadata": {
  "colab": {
   "collapsed_sections": [
    "90ucz2eIcV_S"
   ],
   "name": "236501_HW1 ipynb",
   "provenance": []
  },
  "kernelspec": {
   "display_name": "Python 3",
   "language": "python",
   "name": "python3"
  },
  "language_info": {
   "codemirror_mode": {
    "name": "ipython",
    "version": 3
   },
   "file_extension": ".py",
   "mimetype": "text/x-python",
   "name": "python",
   "nbconvert_exporter": "python",
   "pygments_lexer": "ipython3",
   "version": "3.8.8"
  }
 },
 "nbformat": 4,
 "nbformat_minor": 4
}